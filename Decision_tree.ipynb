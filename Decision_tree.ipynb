{
  "nbformat": 4,
  "nbformat_minor": 0,
  "metadata": {
    "colab": {
      "name": "Decision tree.ipynb",
      "provenance": []
    },
    "kernelspec": {
      "name": "python3",
      "display_name": "Python 3"
    },
    "language_info": {
      "name": "python"
    }
  },
  "cells": [
    {
      "cell_type": "markdown",
      "metadata": {
        "id": "kPspvdf_GpT4"
      },
      "source": [
        "#Cover Page"
      ]
    },
    {
      "cell_type": "markdown",
      "metadata": {
        "id": "rr_eg-J9Gp5G"
      },
      "source": [
        "**Developed by:**\n",
        "\n",
        "**Mohamed Fathi - 41810059**\n",
        "\n",
        "**Ahmed Saber - 41810077**"
      ]
    },
    {
      "cell_type": "markdown",
      "metadata": {
        "id": "2XXSyNnRGxpR"
      },
      "source": [
        "# Import the dataset from drive"
      ]
    },
    {
      "cell_type": "code",
      "metadata": {
        "colab": {
          "base_uri": "https://localhost:8080/"
        },
        "id": "gx-KpQQhGzmp",
        "outputId": "a4c5259b-dbb3-4dd2-a2b5-d78bfa34151d"
      },
      "source": [
        "!gdown --id 1MbUWPsEZJ_Dana5RC07wUGTIgzN92Uld"
      ],
      "execution_count": null,
      "outputs": [
        {
          "output_type": "stream",
          "name": "stdout",
          "text": [
            "Downloading...\n",
            "From: https://drive.google.com/uc?id=1MbUWPsEZJ_Dana5RC07wUGTIgzN92Uld\n",
            "To: /content/seeds.csv\n",
            "\r  0% 0.00/9.12k [00:00<?, ?B/s]\r100% 9.12k/9.12k [00:00<00:00, 27.7MB/s]\n"
          ]
        }
      ]
    },
    {
      "cell_type": "markdown",
      "metadata": {
        "id": "FniEyDzOG6HD"
      },
      "source": [
        "#Importing libraries"
      ]
    },
    {
      "cell_type": "code",
      "metadata": {
        "id": "pydwgXDUG6qM"
      },
      "source": [
        "import pandas as pd\n",
        "import seaborn as sns\n",
        "import numpy as np\n",
        "import matplotlib.pyplot as plt\n",
        "from sklearn.model_selection import train_test_split\n",
        "from sklearn.metrics import mean_squared_error, classification_report, mean_absolute_error, confusion_matrix, accuracy_score\n",
        "from sklearn.tree import DecisionTreeClassifier"
      ],
      "execution_count": null,
      "outputs": []
    },
    {
      "cell_type": "markdown",
      "metadata": {
        "id": "JGx0LEUMG80c"
      },
      "source": [
        "# show how the data looks like"
      ]
    },
    {
      "cell_type": "code",
      "metadata": {
        "colab": {
          "base_uri": "https://localhost:8080/",
          "height": 203
        },
        "id": "WJ-UbaEPG-uY",
        "outputId": "c98f50d7-9b8b-4d2c-a936-f2085898c35b"
      },
      "source": [
        "data = pd.read_csv('seeds.csv')\n",
        "data.head()"
      ],
      "execution_count": null,
      "outputs": [
        {
          "output_type": "execute_result",
          "data": {
            "text/html": [
              "<div>\n",
              "<style scoped>\n",
              "    .dataframe tbody tr th:only-of-type {\n",
              "        vertical-align: middle;\n",
              "    }\n",
              "\n",
              "    .dataframe tbody tr th {\n",
              "        vertical-align: top;\n",
              "    }\n",
              "\n",
              "    .dataframe thead th {\n",
              "        text-align: right;\n",
              "    }\n",
              "</style>\n",
              "<table border=\"1\" class=\"dataframe\">\n",
              "  <thead>\n",
              "    <tr style=\"text-align: right;\">\n",
              "      <th></th>\n",
              "      <th>Area</th>\n",
              "      <th>Perimeter</th>\n",
              "      <th>Compactness</th>\n",
              "      <th>Kernel.Length</th>\n",
              "      <th>Kernel.Width</th>\n",
              "      <th>Asymmetry.Coeff</th>\n",
              "      <th>Kernel.Groove</th>\n",
              "      <th>Type</th>\n",
              "    </tr>\n",
              "  </thead>\n",
              "  <tbody>\n",
              "    <tr>\n",
              "      <th>0</th>\n",
              "      <td>15.26</td>\n",
              "      <td>14.84</td>\n",
              "      <td>0.8710</td>\n",
              "      <td>5.763</td>\n",
              "      <td>3.312</td>\n",
              "      <td>2.221</td>\n",
              "      <td>5.220</td>\n",
              "      <td>1</td>\n",
              "    </tr>\n",
              "    <tr>\n",
              "      <th>1</th>\n",
              "      <td>14.88</td>\n",
              "      <td>14.57</td>\n",
              "      <td>0.8811</td>\n",
              "      <td>5.554</td>\n",
              "      <td>3.333</td>\n",
              "      <td>1.018</td>\n",
              "      <td>4.956</td>\n",
              "      <td>1</td>\n",
              "    </tr>\n",
              "    <tr>\n",
              "      <th>2</th>\n",
              "      <td>14.29</td>\n",
              "      <td>14.09</td>\n",
              "      <td>0.9050</td>\n",
              "      <td>5.291</td>\n",
              "      <td>3.337</td>\n",
              "      <td>2.699</td>\n",
              "      <td>4.825</td>\n",
              "      <td>1</td>\n",
              "    </tr>\n",
              "    <tr>\n",
              "      <th>3</th>\n",
              "      <td>13.84</td>\n",
              "      <td>13.94</td>\n",
              "      <td>0.8955</td>\n",
              "      <td>5.324</td>\n",
              "      <td>3.379</td>\n",
              "      <td>2.259</td>\n",
              "      <td>4.805</td>\n",
              "      <td>1</td>\n",
              "    </tr>\n",
              "    <tr>\n",
              "      <th>4</th>\n",
              "      <td>16.14</td>\n",
              "      <td>14.99</td>\n",
              "      <td>0.9034</td>\n",
              "      <td>5.658</td>\n",
              "      <td>3.562</td>\n",
              "      <td>1.355</td>\n",
              "      <td>5.175</td>\n",
              "      <td>1</td>\n",
              "    </tr>\n",
              "  </tbody>\n",
              "</table>\n",
              "</div>"
            ],
            "text/plain": [
              "    Area  Perimeter  Compactness  ...  Asymmetry.Coeff  Kernel.Groove  Type\n",
              "0  15.26      14.84       0.8710  ...            2.221          5.220     1\n",
              "1  14.88      14.57       0.8811  ...            1.018          4.956     1\n",
              "2  14.29      14.09       0.9050  ...            2.699          4.825     1\n",
              "3  13.84      13.94       0.8955  ...            2.259          4.805     1\n",
              "4  16.14      14.99       0.9034  ...            1.355          5.175     1\n",
              "\n",
              "[5 rows x 8 columns]"
            ]
          },
          "metadata": {},
          "execution_count": 50
        }
      ]
    },
    {
      "cell_type": "markdown",
      "metadata": {
        "id": "d13yI9SlHCob"
      },
      "source": [
        "#Start Split the data and train"
      ]
    },
    {
      "cell_type": "code",
      "metadata": {
        "colab": {
          "base_uri": "https://localhost:8080/"
        },
        "id": "HCMOV_9bHD_e",
        "outputId": "d55ec289-a4ea-4265-ff19-df3ee1d28460"
      },
      "source": [
        "X_train, X_test, y_train, y_test = train_test_split(data.drop('Type', axis=1), data['Type'], test_size = 0.20, random_state=100)\n",
        "print(len(X_train), \"train +\", len(X_test), \"valid\")"
      ],
      "execution_count": null,
      "outputs": [
        {
          "output_type": "stream",
          "name": "stdout",
          "text": [
            "159 train + 40 valid\n"
          ]
        }
      ]
    },
    {
      "cell_type": "markdown",
      "metadata": {
        "id": "9dpd2omlHlaD"
      },
      "source": [
        "**Using Decision tree for trainning**"
      ]
    },
    {
      "cell_type": "markdown",
      "metadata": {
        "id": "lhlSGFCfIX1g"
      },
      "source": [
        "#using gini"
      ]
    },
    {
      "cell_type": "code",
      "metadata": {
        "colab": {
          "base_uri": "https://localhost:8080/"
        },
        "id": "M23ap292Hqx7",
        "outputId": "366a8270-cddd-4bdb-cc8a-18729c72ce88"
      },
      "source": [
        "DT_gini = DecisionTreeClassifier(criterion = \"gini\", random_state = 0,max_depth=3, min_samples_leaf=5)\n",
        "DT_gini.fit(X_train, y_train)"
      ],
      "execution_count": null,
      "outputs": [
        {
          "output_type": "execute_result",
          "data": {
            "text/plain": [
              "DecisionTreeClassifier(max_depth=3, min_samples_leaf=5, random_state=0)"
            ]
          },
          "metadata": {},
          "execution_count": 52
        }
      ]
    },
    {
      "cell_type": "code",
      "metadata": {
        "id": "7pHp1emGJPsQ"
      },
      "source": [
        "y_pred_1 = DT_gini.predict(X_test)\n",
        "cm_1 = confusion_matrix(y_test, y_pred_1)"
      ],
      "execution_count": null,
      "outputs": []
    },
    {
      "cell_type": "code",
      "metadata": {
        "colab": {
          "base_uri": "https://localhost:8080/",
          "height": 296
        },
        "id": "uq9r_Jo_JryT",
        "outputId": "38f073c0-950b-432e-8310-3ed89a1efa58"
      },
      "source": [
        "sns.heatmap(cm_1, annot=True)\n",
        "plt.xlabel('Prediction')\n",
        "plt.ylabel('Truth')"
      ],
      "execution_count": null,
      "outputs": [
        {
          "output_type": "execute_result",
          "data": {
            "text/plain": [
              "Text(33.0, 0.5, 'Truth')"
            ]
          },
          "metadata": {},
          "execution_count": 54
        },
        {
          "output_type": "display_data",
          "data": {
            "image/png": "[encoded data removed]",
            "text/plain": [
              "<Figure size 432x288 with 2 Axes>"
            ]
          },
          "metadata": {
            "needs_background": "light"
          }
        }
      ]
    },
    {
      "cell_type": "markdown",
      "metadata": {
        "id": "0lcFqZ12K9Vw"
      },
      "source": [
        "**Acuuracy**"
      ]
    },
    {
      "cell_type": "code",
      "metadata": {
        "colab": {
          "base_uri": "https://localhost:8080/"
        },
        "id": "qpTCcIySJ5J-",
        "outputId": "a79852bb-8237-43ea-989e-4b4b3978beff"
      },
      "source": [
        "var=\"%\"\n",
        "print(\"Accuracy: %0.1f\" % (accuracy_score(y_test,y_pred_1)*100), var[0])"
      ],
      "execution_count": null,
      "outputs": [
        {
          "output_type": "stream",
          "name": "stdout",
          "text": [
            "Accuracy: 90.0 %\n"
          ]
        }
      ]
    },
    {
      "cell_type": "markdown",
      "metadata": {
        "id": "WDq6IfviLBgp"
      },
      "source": [
        "**classification repor**"
      ]
    },
    {
      "cell_type": "code",
      "metadata": {
        "colab": {
          "base_uri": "https://localhost:8080/"
        },
        "id": "VUt32AT-KGsb",
        "outputId": "19d94f49-5905-45f1-fdab-974e2265d914"
      },
      "source": [
        "print(classification_report(y_test, y_pred_1))"
      ],
      "execution_count": null,
      "outputs": [
        {
          "output_type": "stream",
          "name": "stdout",
          "text": [
            "              precision    recall  f1-score   support\n",
            "\n",
            "           1       0.67      0.86      0.75         7\n",
            "           2       1.00      0.94      0.97        18\n",
            "           3       0.93      0.87      0.90        15\n",
            "\n",
            "    accuracy                           0.90        40\n",
            "   macro avg       0.87      0.89      0.87        40\n",
            "weighted avg       0.91      0.90      0.90        40\n",
            "\n"
          ]
        }
      ]
    },
    {
      "cell_type": "markdown",
      "metadata": {
        "id": "WfJMOBoxIuHp"
      },
      "source": [
        "# using entropy"
      ]
    },
    {
      "cell_type": "code",
      "metadata": {
        "colab": {
          "base_uri": "https://localhost:8080/"
        },
        "id": "U91uFljwI1c4",
        "outputId": "e98f3134-03bf-4263-d73e-9633f6bfbc50"
      },
      "source": [
        "DT_entropy = DecisionTreeClassifier(criterion = \"entropy\", random_state = 0, max_depth = 3, min_samples_leaf = 5)\n",
        "DT_entropy.fit(X_train, y_train)"
      ],
      "execution_count": null,
      "outputs": [
        {
          "output_type": "execute_result",
          "data": {
            "text/plain": [
              "DecisionTreeClassifier(criterion='entropy', max_depth=3, min_samples_leaf=5,\n",
              "                       random_state=0)"
            ]
          },
          "metadata": {},
          "execution_count": 57
        }
      ]
    },
    {
      "cell_type": "code",
      "metadata": {
        "id": "M6P1hknZKOe6"
      },
      "source": [
        "y_pred_2 = DT_entropy.predict(X_test)\n",
        "cm_2 = confusion_matrix(y_test, y_pred_2)"
      ],
      "execution_count": null,
      "outputs": []
    },
    {
      "cell_type": "code",
      "metadata": {
        "colab": {
          "base_uri": "https://localhost:8080/",
          "height": 296
        },
        "id": "vVjHCdHEKVW-",
        "outputId": "aa529619-2f21-4354-c3a7-8339722d0d03"
      },
      "source": [
        "sns.heatmap(cm_2, annot=True)\n",
        "plt.xlabel('Prediction')\n",
        "plt.ylabel('Truth')"
      ],
      "execution_count": null,
      "outputs": [
        {
          "output_type": "execute_result",
          "data": {
            "text/plain": [
              "Text(33.0, 0.5, 'Truth')"
            ]
          },
          "metadata": {},
          "execution_count": 59
        },
        {
          "output_type": "display_data",
          "data": {
            "image/png": "[encoded data removed]",
            "text/plain": [
              "<Figure size 432x288 with 2 Axes>"
            ]
          },
          "metadata": {
            "needs_background": "light"
          }
        }
      ]
    },
    {
      "cell_type": "markdown",
      "metadata": {
        "id": "tP34VxdgLPd2"
      },
      "source": [
        "**Acuuracy**"
      ]
    },
    {
      "cell_type": "code",
      "metadata": {
        "colab": {
          "base_uri": "https://localhost:8080/"
        },
        "id": "S8PCnHfQKkhm",
        "outputId": "b0f730a9-9f83-4788-fba3-4bb34b19fa9e"
      },
      "source": [
        "var=\"%\"\n",
        "print(\"Accuracy: %0.1f\" % (accuracy_score(y_test,y_pred_2)*100), var[0])"
      ],
      "execution_count": null,
      "outputs": [
        {
          "output_type": "stream",
          "name": "stdout",
          "text": [
            "Accuracy: 95.0 %\n"
          ]
        }
      ]
    },
    {
      "cell_type": "markdown",
      "metadata": {
        "id": "ohkRjDKHLQ78"
      },
      "source": [
        "**classification repor**"
      ]
    },
    {
      "cell_type": "code",
      "metadata": {
        "colab": {
          "base_uri": "https://localhost:8080/"
        },
        "id": "NXMTWQ5sKq4u",
        "outputId": "7998be17-47ec-4046-e666-8f39d55ffebf"
      },
      "source": [
        "print(classification_report(y_test, y_pred_2))"
      ],
      "execution_count": null,
      "outputs": [
        {
          "output_type": "stream",
          "name": "stdout",
          "text": [
            "              precision    recall  f1-score   support\n",
            "\n",
            "           1       0.86      0.86      0.86         7\n",
            "           2       1.00      0.94      0.97        18\n",
            "           3       0.94      1.00      0.97        15\n",
            "\n",
            "    accuracy                           0.95        40\n",
            "   macro avg       0.93      0.93      0.93        40\n",
            "weighted avg       0.95      0.95      0.95        40\n",
            "\n"
          ]
        }
      ]
    }
  ]
}