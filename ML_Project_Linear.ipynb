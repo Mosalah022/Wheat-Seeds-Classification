{
  "nbformat": 4,
  "nbformat_minor": 5,
  "metadata": {
    "kernelspec": {
      "display_name": "Python 3",
      "language": "python",
      "name": "python3"
    },
    "language_info": {
      "codemirror_mode": {
        "name": "ipython",
        "version": 3
      },
      "file_extension": ".py",
      "mimetype": "text/x-python",
      "name": "python",
      "nbconvert_exporter": "python",
      "pygments_lexer": "ipython3",
      "version": "3.8.8"
    },
    "colab": {
      "name": "ML_Project_Linear.ipynb",
      "provenance": [],
      "collapsed_sections": []
    }
  },
  "cells": [
    {
      "cell_type": "markdown",
      "metadata": {
        "id": "OrOILdTY0Puw"
      },
      "source": [
        "\n",
        "#Cover Page"
      ],
      "id": "OrOILdTY0Puw"
    },
    {
      "cell_type": "markdown",
      "metadata": {
        "id": "zmPnLYVN0Azv"
      },
      "source": [
        "**Developed by:**\n",
        "\n",
        "**Fatma Mohamed Ali - 41810121**\n",
        "\n",
        "**Mohamed Salah Eldin - 41810303**"
      ],
      "id": "zmPnLYVN0Azv"
    },
    {
      "cell_type": "markdown",
      "metadata": {
        "id": "qdjWkFbS3IDH"
      },
      "source": [
        "#Import the dataset from drive"
      ],
      "id": "qdjWkFbS3IDH"
    },
    {
      "cell_type": "code",
      "metadata": {
        "colab": {
          "base_uri": "https://localhost:8080/"
        },
        "id": "zFi4brSFyvCQ",
        "outputId": "53b31147-1cff-4189-8642-bbd86388c7d0"
      },
      "source": [
        "!gdown --id 1MbUWPsEZJ_Dana5RC07wUGTIgzN92Uld"
      ],
      "id": "zFi4brSFyvCQ",
      "execution_count": null,
      "outputs": [
        {
          "output_type": "stream",
          "name": "stdout",
          "text": [
            "Downloading...\n",
            "From: https://drive.google.com/uc?id=1MbUWPsEZJ_Dana5RC07wUGTIgzN92Uld\n",
            "To: /content/seeds.csv\n",
            "\r  0% 0.00/9.12k [00:00<?, ?B/s]\r100% 9.12k/9.12k [00:00<00:00, 7.75MB/s]\n"
          ]
        }
      ]
    },
    {
      "cell_type": "markdown",
      "metadata": {
        "id": "uG65_5YH84iV"
      },
      "source": [
        "#Importing libraries"
      ],
      "id": "uG65_5YH84iV"
    },
    {
      "cell_type": "code",
      "metadata": {
        "id": "hB30nSwu876N"
      },
      "source": [
        "import pandas as pd \n",
        "import numpy as np\n",
        "import matplotlib.pyplot as plt\n",
        "import seaborn as sns \n",
        "from sklearn.preprocessing import StandardScaler\n",
        "from sklearn.linear_model import LinearRegression\n",
        "from sklearn.model_selection import train_test_split\n",
        "from sklearn.metrics import mean_squared_error\n",
        "from sklearn.metrics import mean_absolute_error"
      ],
      "id": "hB30nSwu876N",
      "execution_count": null,
      "outputs": []
    },
    {
      "cell_type": "markdown",
      "metadata": {
        "id": "ymrEE1ypz3bI"
      },
      "source": [
        "# show how the data looks like"
      ],
      "id": "ymrEE1ypz3bI"
    },
    {
      "cell_type": "code",
      "metadata": {
        "scrolled": true,
        "colab": {
          "base_uri": "https://localhost:8080/",
          "height": 203
        },
        "id": "826433e9",
        "outputId": "16075c04-21a8-42e5-cbab-e22a064671f6"
      },
      "source": [
        "df = pd.read_csv(\"seeds.csv\")\n",
        "df.head()"
      ],
      "id": "826433e9",
      "execution_count": null,
      "outputs": [
        {
          "output_type": "execute_result",
          "data": {
            "text/html": [
              "<div>\n",
              "<style scoped>\n",
              "    .dataframe tbody tr th:only-of-type {\n",
              "        vertical-align: middle;\n",
              "    }\n",
              "\n",
              "    .dataframe tbody tr th {\n",
              "        vertical-align: top;\n",
              "    }\n",
              "\n",
              "    .dataframe thead th {\n",
              "        text-align: right;\n",
              "    }\n",
              "</style>\n",
              "<table border=\"1\" class=\"dataframe\">\n",
              "  <thead>\n",
              "    <tr style=\"text-align: right;\">\n",
              "      <th></th>\n",
              "      <th>Area</th>\n",
              "      <th>Perimeter</th>\n",
              "      <th>Compactness</th>\n",
              "      <th>Kernel.Length</th>\n",
              "      <th>Kernel.Width</th>\n",
              "      <th>Asymmetry.Coeff</th>\n",
              "      <th>Kernel.Groove</th>\n",
              "      <th>Type</th>\n",
              "    </tr>\n",
              "  </thead>\n",
              "  <tbody>\n",
              "    <tr>\n",
              "      <th>0</th>\n",
              "      <td>15.26</td>\n",
              "      <td>14.84</td>\n",
              "      <td>0.8710</td>\n",
              "      <td>5.763</td>\n",
              "      <td>3.312</td>\n",
              "      <td>2.221</td>\n",
              "      <td>5.220</td>\n",
              "      <td>1</td>\n",
              "    </tr>\n",
              "    <tr>\n",
              "      <th>1</th>\n",
              "      <td>14.88</td>\n",
              "      <td>14.57</td>\n",
              "      <td>0.8811</td>\n",
              "      <td>5.554</td>\n",
              "      <td>3.333</td>\n",
              "      <td>1.018</td>\n",
              "      <td>4.956</td>\n",
              "      <td>1</td>\n",
              "    </tr>\n",
              "    <tr>\n",
              "      <th>2</th>\n",
              "      <td>14.29</td>\n",
              "      <td>14.09</td>\n",
              "      <td>0.9050</td>\n",
              "      <td>5.291</td>\n",
              "      <td>3.337</td>\n",
              "      <td>2.699</td>\n",
              "      <td>4.825</td>\n",
              "      <td>1</td>\n",
              "    </tr>\n",
              "    <tr>\n",
              "      <th>3</th>\n",
              "      <td>13.84</td>\n",
              "      <td>13.94</td>\n",
              "      <td>0.8955</td>\n",
              "      <td>5.324</td>\n",
              "      <td>3.379</td>\n",
              "      <td>2.259</td>\n",
              "      <td>4.805</td>\n",
              "      <td>1</td>\n",
              "    </tr>\n",
              "    <tr>\n",
              "      <th>4</th>\n",
              "      <td>16.14</td>\n",
              "      <td>14.99</td>\n",
              "      <td>0.9034</td>\n",
              "      <td>5.658</td>\n",
              "      <td>3.562</td>\n",
              "      <td>1.355</td>\n",
              "      <td>5.175</td>\n",
              "      <td>1</td>\n",
              "    </tr>\n",
              "  </tbody>\n",
              "</table>\n",
              "</div>"
            ],
            "text/plain": [
              "    Area  Perimeter  Compactness  ...  Asymmetry.Coeff  Kernel.Groove  Type\n",
              "0  15.26      14.84       0.8710  ...            2.221          5.220     1\n",
              "1  14.88      14.57       0.8811  ...            1.018          4.956     1\n",
              "2  14.29      14.09       0.9050  ...            2.699          4.825     1\n",
              "3  13.84      13.94       0.8955  ...            2.259          4.805     1\n",
              "4  16.14      14.99       0.9034  ...            1.355          5.175     1\n",
              "\n",
              "[5 rows x 8 columns]"
            ]
          },
          "metadata": {},
          "execution_count": 69
        }
      ]
    },
    {
      "cell_type": "markdown",
      "metadata": {
        "id": "w1ZRL4JQ0XK0"
      },
      "source": [
        "# Check if all data are numbers and if there is a relations between the data\n"
      ],
      "id": "w1ZRL4JQ0XK0"
    },
    {
      "cell_type": "code",
      "metadata": {
        "scrolled": false,
        "colab": {
          "base_uri": "https://localhost:8080/"
        },
        "id": "180f7966",
        "outputId": "3b32ba38-d9b9-45ee-94fb-6501ca262e65"
      },
      "source": [
        "df.dtypes"
      ],
      "id": "180f7966",
      "execution_count": null,
      "outputs": [
        {
          "output_type": "execute_result",
          "data": {
            "text/plain": [
              "Area               float64\n",
              "Perimeter          float64\n",
              "Compactness        float64\n",
              "Kernel.Length      float64\n",
              "Kernel.Width       float64\n",
              "Asymmetry.Coeff    float64\n",
              "Kernel.Groove      float64\n",
              "Type                 int64\n",
              "dtype: object"
            ]
          },
          "metadata": {},
          "execution_count": 70
        }
      ]
    },
    {
      "cell_type": "code",
      "metadata": {
        "colab": {
          "base_uri": "https://localhost:8080/"
        },
        "id": "3bf54bc6",
        "outputId": "fc495a8a-9c2b-4fc5-ecb9-81d423529923"
      },
      "source": [
        "df.info()"
      ],
      "id": "3bf54bc6",
      "execution_count": null,
      "outputs": [
        {
          "output_type": "stream",
          "name": "stdout",
          "text": [
            "<class 'pandas.core.frame.DataFrame'>\n",
            "RangeIndex: 199 entries, 0 to 198\n",
            "Data columns (total 8 columns):\n",
            " #   Column           Non-Null Count  Dtype  \n",
            "---  ------           --------------  -----  \n",
            " 0   Area             199 non-null    float64\n",
            " 1   Perimeter        199 non-null    float64\n",
            " 2   Compactness      199 non-null    float64\n",
            " 3   Kernel.Length    199 non-null    float64\n",
            " 4   Kernel.Width     199 non-null    float64\n",
            " 5   Asymmetry.Coeff  199 non-null    float64\n",
            " 6   Kernel.Groove    199 non-null    float64\n",
            " 7   Type             199 non-null    int64  \n",
            "dtypes: float64(7), int64(1)\n",
            "memory usage: 12.6 KB\n"
          ]
        }
      ]
    },
    {
      "cell_type": "code",
      "metadata": {
        "colab": {
          "base_uri": "https://localhost:8080/"
        },
        "id": "afda4918",
        "outputId": "137f0a1a-65ec-41fa-fb0d-4ea1f653ff66"
      },
      "source": [
        "df.columns"
      ],
      "id": "afda4918",
      "execution_count": null,
      "outputs": [
        {
          "output_type": "execute_result",
          "data": {
            "text/plain": [
              "Index(['Area', 'Perimeter', 'Compactness', 'Kernel.Length', 'Kernel.Width',\n",
              "       'Asymmetry.Coeff', 'Kernel.Groove', 'Type'],\n",
              "      dtype='object')"
            ]
          },
          "metadata": {},
          "execution_count": 72
        }
      ]
    },
    {
      "cell_type": "code",
      "metadata": {
        "id": "3f14223f"
      },
      "source": [
        "#from sklearn.preprocessing import LabelEncoder\n",
        "#encoder = LabelEncoder()"
      ],
      "id": "3f14223f",
      "execution_count": null,
      "outputs": []
    },
    {
      "cell_type": "markdown",
      "metadata": {
        "id": "TYIK-4hAAoFt"
      },
      "source": [
        "#Heatmap"
      ],
      "id": "TYIK-4hAAoFt"
    },
    {
      "cell_type": "code",
      "metadata": {
        "colab": {
          "base_uri": "https://localhost:8080/",
          "height": 617
        },
        "id": "XZADoVb_Ax0j",
        "outputId": "27d6c3f9-3aae-4cb5-c5f9-1bfd8bb6e848"
      },
      "source": [
        "#df.corr()\n",
        "x,y = plt.subplots(figsize=(12,9))\n",
        "sns.heatmap(df.corr(),cmap='YlGnBu',square=True,linewidth=.5,annot=True)\n",
        "plt.show()"
      ],
      "id": "XZADoVb_Ax0j",
      "execution_count": null,
      "outputs": [
        {
          "output_type": "display_data",
          "data": {
            "image/png": "[encoded data removed]",
            "text/plain": [
              "<Figure size 864x648 with 2 Axes>"
            ]
          },
          "metadata": {
            "needs_background": "light"
          }
        }
      ]
    },
    {
      "cell_type": "markdown",
      "metadata": {
        "id": "GsmGG-9r0jwn"
      },
      "source": [
        "# Check for the null "
      ],
      "id": "GsmGG-9r0jwn"
    },
    {
      "cell_type": "code",
      "metadata": {
        "colab": {
          "base_uri": "https://localhost:8080/",
          "height": 417
        },
        "id": "58231596",
        "outputId": "5106d68c-58db-45ad-e626-2282be94cef4"
      },
      "source": [
        "df.isna().any()\n",
        "#df.isnull().sum()\n",
        "df.dropna()"
      ],
      "id": "58231596",
      "execution_count": null,
      "outputs": [
        {
          "output_type": "execute_result",
          "data": {
            "text/html": [
              "<div>\n",
              "<style scoped>\n",
              "    .dataframe tbody tr th:only-of-type {\n",
              "        vertical-align: middle;\n",
              "    }\n",
              "\n",
              "    .dataframe tbody tr th {\n",
              "        vertical-align: top;\n",
              "    }\n",
              "\n",
              "    .dataframe thead th {\n",
              "        text-align: right;\n",
              "    }\n",
              "</style>\n",
              "<table border=\"1\" class=\"dataframe\">\n",
              "  <thead>\n",
              "    <tr style=\"text-align: right;\">\n",
              "      <th></th>\n",
              "      <th>Area</th>\n",
              "      <th>Perimeter</th>\n",
              "      <th>Compactness</th>\n",
              "      <th>Kernel.Length</th>\n",
              "      <th>Kernel.Width</th>\n",
              "      <th>Asymmetry.Coeff</th>\n",
              "      <th>Kernel.Groove</th>\n",
              "      <th>Type</th>\n",
              "    </tr>\n",
              "  </thead>\n",
              "  <tbody>\n",
              "    <tr>\n",
              "      <th>0</th>\n",
              "      <td>15.26</td>\n",
              "      <td>14.84</td>\n",
              "      <td>0.8710</td>\n",
              "      <td>5.763</td>\n",
              "      <td>3.312</td>\n",
              "      <td>2.221</td>\n",
              "      <td>5.220</td>\n",
              "      <td>1</td>\n",
              "    </tr>\n",
              "    <tr>\n",
              "      <th>1</th>\n",
              "      <td>14.88</td>\n",
              "      <td>14.57</td>\n",
              "      <td>0.8811</td>\n",
              "      <td>5.554</td>\n",
              "      <td>3.333</td>\n",
              "      <td>1.018</td>\n",
              "      <td>4.956</td>\n",
              "      <td>1</td>\n",
              "    </tr>\n",
              "    <tr>\n",
              "      <th>2</th>\n",
              "      <td>14.29</td>\n",
              "      <td>14.09</td>\n",
              "      <td>0.9050</td>\n",
              "      <td>5.291</td>\n",
              "      <td>3.337</td>\n",
              "      <td>2.699</td>\n",
              "      <td>4.825</td>\n",
              "      <td>1</td>\n",
              "    </tr>\n",
              "    <tr>\n",
              "      <th>3</th>\n",
              "      <td>13.84</td>\n",
              "      <td>13.94</td>\n",
              "      <td>0.8955</td>\n",
              "      <td>5.324</td>\n",
              "      <td>3.379</td>\n",
              "      <td>2.259</td>\n",
              "      <td>4.805</td>\n",
              "      <td>1</td>\n",
              "    </tr>\n",
              "    <tr>\n",
              "      <th>4</th>\n",
              "      <td>16.14</td>\n",
              "      <td>14.99</td>\n",
              "      <td>0.9034</td>\n",
              "      <td>5.658</td>\n",
              "      <td>3.562</td>\n",
              "      <td>1.355</td>\n",
              "      <td>5.175</td>\n",
              "      <td>1</td>\n",
              "    </tr>\n",
              "    <tr>\n",
              "      <th>...</th>\n",
              "      <td>...</td>\n",
              "      <td>...</td>\n",
              "      <td>...</td>\n",
              "      <td>...</td>\n",
              "      <td>...</td>\n",
              "      <td>...</td>\n",
              "      <td>...</td>\n",
              "      <td>...</td>\n",
              "    </tr>\n",
              "    <tr>\n",
              "      <th>194</th>\n",
              "      <td>12.19</td>\n",
              "      <td>13.20</td>\n",
              "      <td>0.8783</td>\n",
              "      <td>5.137</td>\n",
              "      <td>2.981</td>\n",
              "      <td>3.631</td>\n",
              "      <td>4.870</td>\n",
              "      <td>3</td>\n",
              "    </tr>\n",
              "    <tr>\n",
              "      <th>195</th>\n",
              "      <td>11.23</td>\n",
              "      <td>12.88</td>\n",
              "      <td>0.8511</td>\n",
              "      <td>5.140</td>\n",
              "      <td>2.795</td>\n",
              "      <td>4.325</td>\n",
              "      <td>5.003</td>\n",
              "      <td>3</td>\n",
              "    </tr>\n",
              "    <tr>\n",
              "      <th>196</th>\n",
              "      <td>13.20</td>\n",
              "      <td>13.66</td>\n",
              "      <td>0.8883</td>\n",
              "      <td>5.236</td>\n",
              "      <td>3.232</td>\n",
              "      <td>8.315</td>\n",
              "      <td>5.056</td>\n",
              "      <td>3</td>\n",
              "    </tr>\n",
              "    <tr>\n",
              "      <th>197</th>\n",
              "      <td>11.84</td>\n",
              "      <td>13.21</td>\n",
              "      <td>0.8521</td>\n",
              "      <td>5.175</td>\n",
              "      <td>2.836</td>\n",
              "      <td>3.598</td>\n",
              "      <td>5.044</td>\n",
              "      <td>3</td>\n",
              "    </tr>\n",
              "    <tr>\n",
              "      <th>198</th>\n",
              "      <td>12.30</td>\n",
              "      <td>13.34</td>\n",
              "      <td>0.8684</td>\n",
              "      <td>5.243</td>\n",
              "      <td>2.974</td>\n",
              "      <td>5.637</td>\n",
              "      <td>5.063</td>\n",
              "      <td>3</td>\n",
              "    </tr>\n",
              "  </tbody>\n",
              "</table>\n",
              "<p>199 rows × 8 columns</p>\n",
              "</div>"
            ],
            "text/plain": [
              "      Area  Perimeter  Compactness  ...  Asymmetry.Coeff  Kernel.Groove  Type\n",
              "0    15.26      14.84       0.8710  ...            2.221          5.220     1\n",
              "1    14.88      14.57       0.8811  ...            1.018          4.956     1\n",
              "2    14.29      14.09       0.9050  ...            2.699          4.825     1\n",
              "3    13.84      13.94       0.8955  ...            2.259          4.805     1\n",
              "4    16.14      14.99       0.9034  ...            1.355          5.175     1\n",
              "..     ...        ...          ...  ...              ...            ...   ...\n",
              "194  12.19      13.20       0.8783  ...            3.631          4.870     3\n",
              "195  11.23      12.88       0.8511  ...            4.325          5.003     3\n",
              "196  13.20      13.66       0.8883  ...            8.315          5.056     3\n",
              "197  11.84      13.21       0.8521  ...            3.598          5.044     3\n",
              "198  12.30      13.34       0.8684  ...            5.637          5.063     3\n",
              "\n",
              "[199 rows x 8 columns]"
            ]
          },
          "metadata": {},
          "execution_count": 75
        }
      ]
    },
    {
      "cell_type": "markdown",
      "metadata": {
        "id": "9y814aIB0p1L"
      },
      "source": [
        "# show mean, max , min so handle the data if there is a gap between 75% and max  \n"
      ],
      "id": "9y814aIB0p1L"
    },
    {
      "cell_type": "code",
      "metadata": {
        "colab": {
          "base_uri": "https://localhost:8080/",
          "height": 295
        },
        "id": "22f13920",
        "outputId": "4e6a0f2d-0aee-4cc0-ffba-32dfc68d92b4"
      },
      "source": [
        "df.describe()"
      ],
      "id": "22f13920",
      "execution_count": null,
      "outputs": [
        {
          "output_type": "execute_result",
          "data": {
            "text/html": [
              "<div>\n",
              "<style scoped>\n",
              "    .dataframe tbody tr th:only-of-type {\n",
              "        vertical-align: middle;\n",
              "    }\n",
              "\n",
              "    .dataframe tbody tr th {\n",
              "        vertical-align: top;\n",
              "    }\n",
              "\n",
              "    .dataframe thead th {\n",
              "        text-align: right;\n",
              "    }\n",
              "</style>\n",
              "<table border=\"1\" class=\"dataframe\">\n",
              "  <thead>\n",
              "    <tr style=\"text-align: right;\">\n",
              "      <th></th>\n",
              "      <th>Area</th>\n",
              "      <th>Perimeter</th>\n",
              "      <th>Compactness</th>\n",
              "      <th>Kernel.Length</th>\n",
              "      <th>Kernel.Width</th>\n",
              "      <th>Asymmetry.Coeff</th>\n",
              "      <th>Kernel.Groove</th>\n",
              "      <th>Type</th>\n",
              "    </tr>\n",
              "  </thead>\n",
              "  <tbody>\n",
              "    <tr>\n",
              "      <th>count</th>\n",
              "      <td>199.000000</td>\n",
              "      <td>199.000000</td>\n",
              "      <td>199.000000</td>\n",
              "      <td>199.000000</td>\n",
              "      <td>199.000000</td>\n",
              "      <td>199.000000</td>\n",
              "      <td>199.000000</td>\n",
              "      <td>199.000000</td>\n",
              "    </tr>\n",
              "    <tr>\n",
              "      <th>mean</th>\n",
              "      <td>14.918744</td>\n",
              "      <td>14.595829</td>\n",
              "      <td>0.870811</td>\n",
              "      <td>5.643151</td>\n",
              "      <td>3.265533</td>\n",
              "      <td>3.699217</td>\n",
              "      <td>5.420653</td>\n",
              "      <td>1.994975</td>\n",
              "    </tr>\n",
              "    <tr>\n",
              "      <th>std</th>\n",
              "      <td>2.919976</td>\n",
              "      <td>1.310445</td>\n",
              "      <td>0.023320</td>\n",
              "      <td>0.443593</td>\n",
              "      <td>0.378322</td>\n",
              "      <td>1.471102</td>\n",
              "      <td>0.492718</td>\n",
              "      <td>0.813382</td>\n",
              "    </tr>\n",
              "    <tr>\n",
              "      <th>min</th>\n",
              "      <td>10.590000</td>\n",
              "      <td>12.410000</td>\n",
              "      <td>0.808100</td>\n",
              "      <td>4.899000</td>\n",
              "      <td>2.630000</td>\n",
              "      <td>0.765100</td>\n",
              "      <td>4.519000</td>\n",
              "      <td>1.000000</td>\n",
              "    </tr>\n",
              "    <tr>\n",
              "      <th>25%</th>\n",
              "      <td>12.330000</td>\n",
              "      <td>13.470000</td>\n",
              "      <td>0.857100</td>\n",
              "      <td>5.267000</td>\n",
              "      <td>2.954500</td>\n",
              "      <td>2.570000</td>\n",
              "      <td>5.046000</td>\n",
              "      <td>1.000000</td>\n",
              "    </tr>\n",
              "    <tr>\n",
              "      <th>50%</th>\n",
              "      <td>14.430000</td>\n",
              "      <td>14.370000</td>\n",
              "      <td>0.873400</td>\n",
              "      <td>5.541000</td>\n",
              "      <td>3.245000</td>\n",
              "      <td>3.631000</td>\n",
              "      <td>5.228000</td>\n",
              "      <td>2.000000</td>\n",
              "    </tr>\n",
              "    <tr>\n",
              "      <th>75%</th>\n",
              "      <td>17.455000</td>\n",
              "      <td>15.805000</td>\n",
              "      <td>0.886800</td>\n",
              "      <td>6.002000</td>\n",
              "      <td>3.564500</td>\n",
              "      <td>4.799000</td>\n",
              "      <td>5.879000</td>\n",
              "      <td>3.000000</td>\n",
              "    </tr>\n",
              "    <tr>\n",
              "      <th>max</th>\n",
              "      <td>21.180000</td>\n",
              "      <td>17.250000</td>\n",
              "      <td>0.918300</td>\n",
              "      <td>6.675000</td>\n",
              "      <td>4.033000</td>\n",
              "      <td>8.315000</td>\n",
              "      <td>6.550000</td>\n",
              "      <td>3.000000</td>\n",
              "    </tr>\n",
              "  </tbody>\n",
              "</table>\n",
              "</div>"
            ],
            "text/plain": [
              "             Area   Perimeter  ...  Kernel.Groove        Type\n",
              "count  199.000000  199.000000  ...     199.000000  199.000000\n",
              "mean    14.918744   14.595829  ...       5.420653    1.994975\n",
              "std      2.919976    1.310445  ...       0.492718    0.813382\n",
              "min     10.590000   12.410000  ...       4.519000    1.000000\n",
              "25%     12.330000   13.470000  ...       5.046000    1.000000\n",
              "50%     14.430000   14.370000  ...       5.228000    2.000000\n",
              "75%     17.455000   15.805000  ...       5.879000    3.000000\n",
              "max     21.180000   17.250000  ...       6.550000    3.000000\n",
              "\n",
              "[8 rows x 8 columns]"
            ]
          },
          "metadata": {},
          "execution_count": 76
        }
      ]
    },
    {
      "cell_type": "markdown",
      "metadata": {
        "id": "bI_-RhfQ04fF"
      },
      "source": [
        "# check for the outlier"
      ],
      "id": "bI_-RhfQ04fF"
    },
    {
      "cell_type": "code",
      "metadata": {
        "colab": {
          "base_uri": "https://localhost:8080/",
          "height": 879
        },
        "id": "50488f33",
        "outputId": "a260bd74-fc07-47de-8642-730ef876cc8d"
      },
      "source": [
        "\"\"\"\n",
        "df['Area'].skew()\n",
        "df['Asymmetry.Coeff'].skew()\n",
        "plt.boxplot(df['Kernel.Groove'])\n",
        "plt.show()\n",
        "\"\"\"\n",
        "df.hist(bins=50,figsize=(20,15))\n",
        "plt.show()"
      ],
      "id": "50488f33",
      "execution_count": null,
      "outputs": [
        {
          "output_type": "display_data",
          "data": {
            "image/png": "[encoded data removed]",
            "text/plain": [
              "<Figure size 1440x1080 with 9 Axes>"
            ]
          },
          "metadata": {
            "needs_background": "light"
          }
        }
      ]
    },
    {
      "cell_type": "code",
      "metadata": {
        "colab": {
          "base_uri": "https://localhost:8080/"
        },
        "id": "877bd388",
        "outputId": "3fd14cec-a126-4b94-cf6a-74dfa76619ba"
      },
      "source": [
        "df.shape"
      ],
      "id": "877bd388",
      "execution_count": null,
      "outputs": [
        {
          "output_type": "execute_result",
          "data": {
            "text/plain": [
              "(199, 8)"
            ]
          },
          "metadata": {},
          "execution_count": 78
        }
      ]
    },
    {
      "cell_type": "markdown",
      "metadata": {
        "id": "yClZ2v0u07yU"
      },
      "source": [
        "**drop the outlier**\n"
      ],
      "id": "yClZ2v0u07yU"
    },
    {
      "cell_type": "code",
      "metadata": {
        "colab": {
          "base_uri": "https://localhost:8080/"
        },
        "id": "ab7db4f0",
        "outputId": "4fb50c62-2133-4258-e126-fa38b9416f25"
      },
      "source": [
        "Q1 = df.quantile(0.25)\n",
        "Q3 = df.quantile(0.75)\n",
        "IQR = Q3 - Q1\n",
        "print (IQR)\n",
        "df = df[~((df < (Q1 - 1.5 *  IQR)) | (df > (Q3 + 1.5 * IQR))).any(axis=1)]\n",
        "print (df.shape)"
      ],
      "id": "ab7db4f0",
      "execution_count": null,
      "outputs": [
        {
          "output_type": "stream",
          "name": "stdout",
          "text": [
            "Area               5.1250\n",
            "Perimeter          2.3350\n",
            "Compactness        0.0297\n",
            "Kernel.Length      0.7350\n",
            "Kernel.Width       0.6100\n",
            "Asymmetry.Coeff    2.2290\n",
            "Kernel.Groove      0.8330\n",
            "Type               2.0000\n",
            "dtype: float64\n",
            "(194, 8)\n"
          ]
        }
      ]
    },
    {
      "cell_type": "code",
      "metadata": {
        "colab": {
          "base_uri": "https://localhost:8080/",
          "height": 879
        },
        "id": "ce6ced59",
        "outputId": "e2bbeb09-89de-4765-9368-97a476f0f296"
      },
      "source": [
        "df.hist(bins=50,figsize=(20,15))\n",
        "plt.show()"
      ],
      "id": "ce6ced59",
      "execution_count": null,
      "outputs": [
        {
          "output_type": "display_data",
          "data": {
            "image/png": "[encoded data removed]",
            "text/plain": [
              "<Figure size 1440x1080 with 9 Axes>"
            ]
          },
          "metadata": {
            "needs_background": "light"
          }
        }
      ]
    },
    {
      "cell_type": "markdown",
      "metadata": {
        "id": "HsEz5WvR_HsP"
      },
      "source": [
        "#Normalization"
      ],
      "id": "HsEz5WvR_HsP"
    },
    {
      "cell_type": "code",
      "metadata": {
        "colab": {
          "base_uri": "https://localhost:8080/"
        },
        "id": "fnED684E_RsJ",
        "outputId": "34f5eb29-b880-4690-9249-0085812d6fba"
      },
      "source": [
        "scaler=StandardScaler()\n",
        "scaler.fit(df)\n",
        "dataset=scaler.transform(df)\n",
        "dataset"
      ],
      "id": "fnED684E_RsJ",
      "execution_count": null,
      "outputs": [
        {
          "output_type": "execute_result",
          "data": {
            "text/plain": [
              "array([[ 0.08940162,  0.16240209, -0.04548938, ..., -0.99515999,\n",
              "        -0.41618709, -1.20334942],\n",
              "       [-0.04159992, -0.04411943,  0.41849757, ..., -1.83328902,\n",
              "        -0.94820851, -1.20334942],\n",
              "       [-0.24499705, -0.41126881,  1.5164469 , ..., -0.66213781,\n",
              "        -1.21220398, -1.20334942],\n",
              "       ...,\n",
              "       [-1.29990421, -1.33679119, -0.9596815 , ...,  0.47069495,\n",
              "        -0.85349257,  1.28015895],\n",
              "       [-1.08961226, -1.084376  , -0.9137422 , ..., -0.03580531,\n",
              "        -0.77086803,  1.28015895],\n",
              "       [-0.93103144, -0.98493971, -0.16493157, ...,  1.38476419,\n",
              "        -0.73257861,  1.28015895]])"
            ]
          },
          "metadata": {},
          "execution_count": 81
        }
      ]
    },
    {
      "cell_type": "markdown",
      "metadata": {
        "id": "g5oAlUbF1Hpy"
      },
      "source": [
        "#Start Split the data and train"
      ],
      "id": "g5oAlUbF1Hpy"
    },
    {
      "cell_type": "code",
      "metadata": {
        "id": "59817ca0"
      },
      "source": [
        "df_target = df[\"Type\"]  #save target for training set\n",
        "df = df.drop(\"Type\", axis=1) #drop target for training set"
      ],
      "id": "59817ca0",
      "execution_count": null,
      "outputs": []
    },
    {
      "cell_type": "markdown",
      "metadata": {
        "id": "ipsmHU1F-I0v"
      },
      "source": [
        "**train_test_split imported from sklearn.model_selection**"
      ],
      "id": "ipsmHU1F-I0v"
    },
    {
      "cell_type": "code",
      "metadata": {
        "colab": {
          "base_uri": "https://localhost:8080/"
        },
        "id": "06bddb45",
        "outputId": "97edf6b6-4958-49f7-91b6-82d909f6d2f9"
      },
      "source": [
        "\"\"\"\n",
        "#split the data for training and validation\n",
        "First Way to split data \n",
        "train_set_size= int(len (df) * 0.7)\n",
        "train_set = df [:train_set_size][:]\n",
        "valid_set = df [train_set_size:][:]\n",
        "\n",
        "train_target = df_target [:train_set_size]\n",
        "valid_target = df_target [train_set_size:]\n",
        "print(len (train_set), \"train +\", len(valid_set), \"valid\")\n",
        "\"\"\"\n",
        "#second way\n",
        "train_set, valid_set = train_test_split(df, test_size=0.2)\n",
        "train_target, valid_target = train_test_split (df_target, test_size=0.2)\n",
        "print(len(train_set), \"train +\", len(valid_set), \"valid\")"
      ],
      "id": "06bddb45",
      "execution_count": null,
      "outputs": [
        {
          "output_type": "stream",
          "name": "stdout",
          "text": [
            "155 train + 39 valid\n"
          ]
        }
      ]
    },
    {
      "cell_type": "markdown",
      "metadata": {
        "id": "i_FNOA-_1QY_"
      },
      "source": [
        "**Using linear model for trainning** "
      ],
      "id": "i_FNOA-_1QY_"
    },
    {
      "cell_type": "markdown",
      "metadata": {
        "id": "FejsuM8r-DXQ"
      },
      "source": [
        "**LinearRegression imported from sklearn.linear_model**\n"
      ],
      "id": "FejsuM8r-DXQ"
    },
    {
      "cell_type": "code",
      "metadata": {
        "colab": {
          "base_uri": "https://localhost:8080/"
        },
        "id": "8ade4a69",
        "outputId": "b7cd42fd-4575-4b44-9e1e-28bd8874e84b"
      },
      "source": [
        "lin_reg = LinearRegression()\n",
        "lin_reg.fit(train_set, train_target)"
      ],
      "id": "8ade4a69",
      "execution_count": null,
      "outputs": [
        {
          "output_type": "execute_result",
          "data": {
            "text/plain": [
              "LinearRegression()"
            ]
          },
          "metadata": {},
          "execution_count": 84
        }
      ]
    },
    {
      "cell_type": "markdown",
      "metadata": {
        "id": "ArnXuH371U0A"
      },
      "source": [
        "#find the mean square error"
      ],
      "id": "ArnXuH371U0A"
    },
    {
      "cell_type": "markdown",
      "metadata": {
        "id": "dgwrWqSU9_FI"
      },
      "source": [
        "**mean_squared_error imported from from sklearn.metrics**\n",
        "\n",
        "**np.sqrt imported from numpy** "
      ],
      "id": "dgwrWqSU9_FI"
    },
    {
      "cell_type": "code",
      "metadata": {
        "colab": {
          "base_uri": "https://localhost:8080/"
        },
        "id": "4a6ed89b",
        "outputId": "e806f670-a250-44ad-dd60-e083aa8eca3c"
      },
      "source": [
        "Type_predictions = lin_reg.predict(valid_set)\n",
        "lin_mse = mean_squared_error(valid_target, Type_predictions)\n",
        "lin_rmse = np.sqrt(lin_mse)\n",
        "lin_rmse"
      ],
      "id": "4a6ed89b",
      "execution_count": null,
      "outputs": [
        {
          "output_type": "execute_result",
          "data": {
            "text/plain": [
              "0.8181891724915298"
            ]
          },
          "metadata": {},
          "execution_count": 85
        }
      ]
    },
    {
      "cell_type": "markdown",
      "metadata": {
        "id": "pW6DpdWr94hI"
      },
      "source": [
        "**mean_absolute_error imported from from sklearn.metrics**\n"
      ],
      "id": "pW6DpdWr94hI"
    },
    {
      "cell_type": "code",
      "metadata": {
        "colab": {
          "base_uri": "https://localhost:8080/"
        },
        "id": "5bae51bf",
        "outputId": "ef856227-9647-419c-b075-deff1df58b4f"
      },
      "source": [
        "lin_mae = mean_absolute_error(valid_target, Type_predictions)\n",
        "lin_mae"
      ],
      "id": "5bae51bf",
      "execution_count": null,
      "outputs": [
        {
          "output_type": "execute_result",
          "data": {
            "text/plain": [
              "0.6768894786585864"
            ]
          },
          "metadata": {},
          "execution_count": 86
        }
      ]
    }
  ]
}