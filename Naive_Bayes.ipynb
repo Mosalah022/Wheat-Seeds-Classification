{
  "nbformat": 4,
  "nbformat_minor": 5,
  "metadata": {
    "kernelspec": {
      "display_name": "Python 3",
      "language": "python",
      "name": "python3"
    },
    "language_info": {
      "codemirror_mode": {
        "name": "ipython",
        "version": 3
      },
      "file_extension": ".py",
      "mimetype": "text/x-python",
      "name": "python",
      "nbconvert_exporter": "python",
      "pygments_lexer": "ipython3",
      "version": "3.8.8"
    },
    "colab": {
      "name": "Naive_Bayes.ipynb",
      "provenance": [],
      "collapsed_sections": []
    }
  },
  "cells": [
    {
      "cell_type": "markdown",
      "metadata": {
        "id": "h_t4bs2AC48D"
      },
      "source": [
        "#Cover Page"
      ],
      "id": "h_t4bs2AC48D"
    },
    {
      "cell_type": "markdown",
      "metadata": {
        "id": "dAgsqLeHC7Bz"
      },
      "source": [
        "**Developed by:**\n",
        "\n",
        "**Mohamed Fathi - 41810059**\n",
        "\n",
        "**Ahmed Saber - 41810077**"
      ],
      "id": "dAgsqLeHC7Bz"
    },
    {
      "cell_type": "markdown",
      "metadata": {
        "id": "j8gIzsZdC-DF"
      },
      "source": [
        "#Import the dataset from drive"
      ],
      "id": "j8gIzsZdC-DF"
    },
    {
      "cell_type": "code",
      "metadata": {
        "colab": {
          "base_uri": "https://localhost:8080/"
        },
        "id": "SZWuzs1sDHlN",
        "outputId": "03802f6e-5459-42ac-bca6-706d1038a4da"
      },
      "source": [
        "!gdown --id 1MbUWPsEZJ_Dana5RC07wUGTIgzN92Uld"
      ],
      "id": "SZWuzs1sDHlN",
      "execution_count": null,
      "outputs": [
        {
          "output_type": "stream",
          "name": "stdout",
          "text": [
            "Downloading...\n",
            "From: https://drive.google.com/uc?id=1MbUWPsEZJ_Dana5RC07wUGTIgzN92Uld\n",
            "To: /content/seeds.csv\n",
            "\r  0% 0.00/9.12k [00:00<?, ?B/s]\r100% 9.12k/9.12k [00:00<00:00, 16.2MB/s]\n"
          ]
        }
      ]
    },
    {
      "cell_type": "markdown",
      "metadata": {
        "id": "ZwW3cC1EDLx6"
      },
      "source": [
        "#Importing libraries"
      ],
      "id": "ZwW3cC1EDLx6"
    },
    {
      "cell_type": "code",
      "metadata": {
        "id": "0bfa9068"
      },
      "source": [
        "from sklearn.naive_bayes import GaussianNB \n",
        "import pandas as pd\n",
        "import seaborn as sns\n",
        "import numpy as np\n",
        "from sklearn.neighbors import KNeighborsClassifier\n",
        "import matplotlib.pyplot as plt\n",
        "from sklearn.metrics import confusion_matrix,accuracy_score\n",
        "from sklearn.model_selection import train_test_split\n",
        "from sklearn.preprocessing import StandardScaler\n",
        "from sklearn.metrics import mean_squared_error\n",
        "from sklearn.metrics import mean_absolute_error"
      ],
      "id": "0bfa9068",
      "execution_count": null,
      "outputs": []
    },
    {
      "cell_type": "markdown",
      "metadata": {
        "id": "X6RH8xKADXtD"
      },
      "source": [
        "# show how the data looks like"
      ],
      "id": "X6RH8xKADXtD"
    },
    {
      "cell_type": "code",
      "metadata": {
        "id": "55f5f749",
        "colab": {
          "base_uri": "https://localhost:8080/",
          "height": 203
        },
        "outputId": "0292bbfa-9db3-474d-a6d5-cb8e57cafda6"
      },
      "source": [
        "data = pd.read_csv('seeds.csv')\n",
        "df.head()"
      ],
      "id": "55f5f749",
      "execution_count": null,
      "outputs": [
        {
          "output_type": "execute_result",
          "data": {
            "text/html": [
              "<div>\n",
              "<style scoped>\n",
              "    .dataframe tbody tr th:only-of-type {\n",
              "        vertical-align: middle;\n",
              "    }\n",
              "\n",
              "    .dataframe tbody tr th {\n",
              "        vertical-align: top;\n",
              "    }\n",
              "\n",
              "    .dataframe thead th {\n",
              "        text-align: right;\n",
              "    }\n",
              "</style>\n",
              "<table border=\"1\" class=\"dataframe\">\n",
              "  <thead>\n",
              "    <tr style=\"text-align: right;\">\n",
              "      <th></th>\n",
              "      <th>Area</th>\n",
              "      <th>Perimeter</th>\n",
              "      <th>Compactness</th>\n",
              "      <th>Kernel.Length</th>\n",
              "      <th>Kernel.Width</th>\n",
              "      <th>Asymmetry.Coeff</th>\n",
              "      <th>Kernel.Groove</th>\n",
              "    </tr>\n",
              "  </thead>\n",
              "  <tbody>\n",
              "    <tr>\n",
              "      <th>0</th>\n",
              "      <td>15.26</td>\n",
              "      <td>14.84</td>\n",
              "      <td>0.8710</td>\n",
              "      <td>5.763</td>\n",
              "      <td>3.312</td>\n",
              "      <td>2.221</td>\n",
              "      <td>5.220</td>\n",
              "    </tr>\n",
              "    <tr>\n",
              "      <th>1</th>\n",
              "      <td>14.88</td>\n",
              "      <td>14.57</td>\n",
              "      <td>0.8811</td>\n",
              "      <td>5.554</td>\n",
              "      <td>3.333</td>\n",
              "      <td>1.018</td>\n",
              "      <td>4.956</td>\n",
              "    </tr>\n",
              "    <tr>\n",
              "      <th>2</th>\n",
              "      <td>14.29</td>\n",
              "      <td>14.09</td>\n",
              "      <td>0.9050</td>\n",
              "      <td>5.291</td>\n",
              "      <td>3.337</td>\n",
              "      <td>2.699</td>\n",
              "      <td>4.825</td>\n",
              "    </tr>\n",
              "    <tr>\n",
              "      <th>3</th>\n",
              "      <td>13.84</td>\n",
              "      <td>13.94</td>\n",
              "      <td>0.8955</td>\n",
              "      <td>5.324</td>\n",
              "      <td>3.379</td>\n",
              "      <td>2.259</td>\n",
              "      <td>4.805</td>\n",
              "    </tr>\n",
              "    <tr>\n",
              "      <th>4</th>\n",
              "      <td>16.14</td>\n",
              "      <td>14.99</td>\n",
              "      <td>0.9034</td>\n",
              "      <td>5.658</td>\n",
              "      <td>3.562</td>\n",
              "      <td>1.355</td>\n",
              "      <td>5.175</td>\n",
              "    </tr>\n",
              "  </tbody>\n",
              "</table>\n",
              "</div>"
            ],
            "text/plain": [
              "    Area  Perimeter  Compactness  ...  Kernel.Width  Asymmetry.Coeff  Kernel.Groove\n",
              "0  15.26      14.84       0.8710  ...         3.312            2.221          5.220\n",
              "1  14.88      14.57       0.8811  ...         3.333            1.018          4.956\n",
              "2  14.29      14.09       0.9050  ...         3.337            2.699          4.825\n",
              "3  13.84      13.94       0.8955  ...         3.379            2.259          4.805\n",
              "4  16.14      14.99       0.9034  ...         3.562            1.355          5.175\n",
              "\n",
              "[5 rows x 7 columns]"
            ]
          },
          "metadata": {},
          "execution_count": 162
        }
      ]
    },
    {
      "cell_type": "markdown",
      "metadata": {
        "id": "BNBmYvIlDnsg"
      },
      "source": [
        "#Normalization"
      ],
      "id": "BNBmYvIlDnsg"
    },
    {
      "cell_type": "code",
      "metadata": {
        "colab": {
          "base_uri": "https://localhost:8080/",
          "height": 203
        },
        "id": "BCXnYwY4DpAF",
        "outputId": "a917d4af-ef11-4ec4-d7dc-07a29c049fa0"
      },
      "source": [
        "df = data.drop('Type', axis=1)\n",
        "df_norm = (df-df.min())/(df.max()-df.min())\n",
        "df_norm = pd.concat((df_norm, data.Type), 1)\n",
        "df_norm.head()"
      ],
      "id": "BCXnYwY4DpAF",
      "execution_count": null,
      "outputs": [
        {
          "output_type": "execute_result",
          "data": {
            "text/html": [
              "<div>\n",
              "<style scoped>\n",
              "    .dataframe tbody tr th:only-of-type {\n",
              "        vertical-align: middle;\n",
              "    }\n",
              "\n",
              "    .dataframe tbody tr th {\n",
              "        vertical-align: top;\n",
              "    }\n",
              "\n",
              "    .dataframe thead th {\n",
              "        text-align: right;\n",
              "    }\n",
              "</style>\n",
              "<table border=\"1\" class=\"dataframe\">\n",
              "  <thead>\n",
              "    <tr style=\"text-align: right;\">\n",
              "      <th></th>\n",
              "      <th>Area</th>\n",
              "      <th>Perimeter</th>\n",
              "      <th>Compactness</th>\n",
              "      <th>Kernel.Length</th>\n",
              "      <th>Kernel.Width</th>\n",
              "      <th>Asymmetry.Coeff</th>\n",
              "      <th>Kernel.Groove</th>\n",
              "      <th>Type</th>\n",
              "    </tr>\n",
              "  </thead>\n",
              "  <tbody>\n",
              "    <tr>\n",
              "      <th>0</th>\n",
              "      <td>0.440982</td>\n",
              "      <td>0.502066</td>\n",
              "      <td>0.570780</td>\n",
              "      <td>0.486486</td>\n",
              "      <td>0.486101</td>\n",
              "      <td>0.192837</td>\n",
              "      <td>0.345150</td>\n",
              "      <td>1</td>\n",
              "    </tr>\n",
              "    <tr>\n",
              "      <th>1</th>\n",
              "      <td>0.405099</td>\n",
              "      <td>0.446281</td>\n",
              "      <td>0.662432</td>\n",
              "      <td>0.368806</td>\n",
              "      <td>0.501069</td>\n",
              "      <td>0.033497</td>\n",
              "      <td>0.215165</td>\n",
              "      <td>1</td>\n",
              "    </tr>\n",
              "    <tr>\n",
              "      <th>2</th>\n",
              "      <td>0.349386</td>\n",
              "      <td>0.347107</td>\n",
              "      <td>0.879310</td>\n",
              "      <td>0.220721</td>\n",
              "      <td>0.503920</td>\n",
              "      <td>0.256149</td>\n",
              "      <td>0.150665</td>\n",
              "      <td>1</td>\n",
              "    </tr>\n",
              "    <tr>\n",
              "      <th>3</th>\n",
              "      <td>0.306893</td>\n",
              "      <td>0.316116</td>\n",
              "      <td>0.793103</td>\n",
              "      <td>0.239302</td>\n",
              "      <td>0.533856</td>\n",
              "      <td>0.197870</td>\n",
              "      <td>0.140817</td>\n",
              "      <td>1</td>\n",
              "    </tr>\n",
              "    <tr>\n",
              "      <th>4</th>\n",
              "      <td>0.524079</td>\n",
              "      <td>0.533058</td>\n",
              "      <td>0.864791</td>\n",
              "      <td>0.427365</td>\n",
              "      <td>0.664291</td>\n",
              "      <td>0.078133</td>\n",
              "      <td>0.322994</td>\n",
              "      <td>1</td>\n",
              "    </tr>\n",
              "  </tbody>\n",
              "</table>\n",
              "</div>"
            ],
            "text/plain": [
              "       Area  Perimeter  Compactness  ...  Asymmetry.Coeff  Kernel.Groove  Type\n",
              "0  0.440982   0.502066     0.570780  ...         0.192837       0.345150     1\n",
              "1  0.405099   0.446281     0.662432  ...         0.033497       0.215165     1\n",
              "2  0.349386   0.347107     0.879310  ...         0.256149       0.150665     1\n",
              "3  0.306893   0.316116     0.793103  ...         0.197870       0.140817     1\n",
              "4  0.524079   0.533058     0.864791  ...         0.078133       0.322994     1\n",
              "\n",
              "[5 rows x 8 columns]"
            ]
          },
          "metadata": {},
          "execution_count": 163
        }
      ]
    },
    {
      "cell_type": "markdown",
      "metadata": {
        "id": "GeISQFhZM0UO"
      },
      "source": [
        "#Start Split the data and train"
      ],
      "id": "GeISQFhZM0UO"
    },
    {
      "cell_type": "code",
      "metadata": {
        "id": "2e0f68fa",
        "colab": {
          "base_uri": "https://localhost:8080/"
        },
        "outputId": "16e0c8c1-34c2-4573-d009-55a09ad4accb"
      },
      "source": [
        "X_train, X_test, y_train, y_test = train_test_split(df_norm.drop('Type', axis=1), df_norm['Type'], test_size = 0.20)\n",
        "print(len(X_train), \"train +\", len(X_test), \"valid\")"
      ],
      "id": "2e0f68fa",
      "execution_count": null,
      "outputs": [
        {
          "output_type": "stream",
          "name": "stdout",
          "text": [
            "159 train + 40 valid\n"
          ]
        }
      ]
    },
    {
      "cell_type": "markdown",
      "metadata": {
        "id": "97m10hdBM2jF"
      },
      "source": [
        "#Using Naive_Bayes for trainning "
      ],
      "id": "97m10hdBM2jF"
    },
    {
      "cell_type": "code",
      "metadata": {
        "id": "1856f860"
      },
      "source": [
        "classifier = GaussianNB()\n",
        "classifier =classifier.fit(X_train, y_train)\n",
        "y_pred  =  classifier.predict(X_test)"
      ],
      "id": "1856f860",
      "execution_count": null,
      "outputs": []
    },
    {
      "cell_type": "code",
      "metadata": {
        "colab": {
          "base_uri": "https://localhost:8080/"
        },
        "id": "cdb6ba12",
        "outputId": "32831bf5-f372-46ea-9aa9-db33ba37d99f"
      },
      "source": [
        "cm = confusion_matrix(y_test, y_pred)\n",
        "cm"
      ],
      "id": "cdb6ba12",
      "execution_count": null,
      "outputs": [
        {
          "output_type": "execute_result",
          "data": {
            "text/plain": [
              "array([[ 6,  0,  1],\n",
              "       [ 0, 16,  0],\n",
              "       [ 0,  0, 17]])"
            ]
          },
          "metadata": {},
          "execution_count": 166
        }
      ]
    },
    {
      "cell_type": "code",
      "metadata": {
        "colab": {
          "base_uri": "https://localhost:8080/",
          "height": 296
        },
        "id": "8f536735",
        "outputId": "3c1d8769-b453-4917-f978-c79dd6f1647a"
      },
      "source": [
        "sns.heatmap(cm, annot=True)\n",
        "plt.xlabel('Prediction')\n",
        "plt.ylabel('Truth')"
      ],
      "id": "8f536735",
      "execution_count": null,
      "outputs": [
        {
          "output_type": "execute_result",
          "data": {
            "text/plain": [
              "Text(33.0, 0.5, 'Truth')"
            ]
          },
          "metadata": {},
          "execution_count": 167
        },
        {
          "output_type": "display_data",
          "data": {
            "image/png": "[encoded data removed]",
            "text/plain": [
              "<Figure size 432x288 with 2 Axes>"
            ]
          },
          "metadata": {
            "needs_background": "light"
          }
        }
      ]
    },
    {
      "cell_type": "markdown",
      "metadata": {
        "id": "ssm58F_sNIGv"
      },
      "source": [
        "# Accurcy"
      ],
      "id": "ssm58F_sNIGv"
    },
    {
      "cell_type": "code",
      "metadata": {
        "colab": {
          "base_uri": "https://localhost:8080/"
        },
        "id": "DAYNfL5_f6TL",
        "outputId": "22cc6aaa-3b38-48fd-d97c-beb98bcc7025"
      },
      "source": [
        "var=\"%\"\n",
        "print(\"Accuracy: %0.1f\" % (classifier.score(X_test,y_test)*100), var[0])"
      ],
      "id": "DAYNfL5_f6TL",
      "execution_count": null,
      "outputs": [
        {
          "output_type": "stream",
          "name": "stdout",
          "text": [
            "Accuracy: 97.5 %\n"
          ]
        }
      ]
    },
    {
      "cell_type": "markdown",
      "metadata": {
        "id": "Wu3er2R3NMAd"
      },
      "source": [
        "#find the mean square error"
      ],
      "id": "Wu3er2R3NMAd"
    },
    {
      "cell_type": "code",
      "metadata": {
        "colab": {
          "base_uri": "https://localhost:8080/"
        },
        "id": "6IcdjaxwNO4c",
        "outputId": "755a992a-529c-4ecf-bc15-af8c6b32ac0f"
      },
      "source": [
        "lin_mse = mean_squared_error(y_test, y_pred)\n",
        "lin_rmse = np.sqrt(lin_mse)\n",
        "lin_rmse"
      ],
      "id": "6IcdjaxwNO4c",
      "execution_count": null,
      "outputs": [
        {
          "output_type": "execute_result",
          "data": {
            "text/plain": [
              "0.31622776601683794"
            ]
          },
          "metadata": {},
          "execution_count": 169
        }
      ]
    },
    {
      "cell_type": "code",
      "metadata": {
        "colab": {
          "base_uri": "https://localhost:8080/"
        },
        "id": "mEiDOVrmNQPv",
        "outputId": "cc8ad77e-4a09-44aa-a8a9-98e4a9402eac"
      },
      "source": [
        "lin_mae = mean_absolute_error(y_test, y_pred)\n",
        "lin_mae"
      ],
      "id": "mEiDOVrmNQPv",
      "execution_count": null,
      "outputs": [
        {
          "output_type": "execute_result",
          "data": {
            "text/plain": [
              "0.05"
            ]
          },
          "metadata": {},
          "execution_count": 170
        }
      ]
    }
  ]
}