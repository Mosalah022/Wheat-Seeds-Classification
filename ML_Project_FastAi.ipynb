{
  "nbformat": 4,
  "nbformat_minor": 0,
  "metadata": {
    "colab": {
      "name": "ML_Project_FastAi.ipynb",
      "provenance": [],
      "collapsed_sections": []
    },
    "kernelspec": {
      "name": "python3",
      "display_name": "Python 3"
    },
    "language_info": {
      "name": "python"
    },
    "accelerator": "GPU"
  },
  "cells": [
    {
      "cell_type": "code",
      "metadata": {
        "colab": {
          "base_uri": "https://localhost:8080/"
        },
        "id": "wel8V8liuDkv",
        "outputId": "aba1b808-504c-4a04-d352-8530ceccd3a0"
      },
      "source": [
        "#hide\n",
        "#skip\n",
        "! [ -e /content ] && pip install -Uqq fastai  # upgrade fastai on colab\n",
        "!gdown --id 1MbUWPsEZJ_Dana5RC07wUGTIgzN92Uld"
      ],
      "execution_count": 1,
      "outputs": [
        {
          "output_type": "stream",
          "name": "stdout",
          "text": [
            "\u001b[K     |████████████████████████████████| 189 kB 10.8 MB/s \n",
            "\u001b[K     |████████████████████████████████| 56 kB 5.0 MB/s \n",
            "\u001b[?25hDownloading...\n",
            "From: https://drive.google.com/uc?id=1MbUWPsEZJ_Dana5RC07wUGTIgzN92Uld\n",
            "To: /content/seeds.csv\n",
            "100% 9.12k/9.12k [00:00<00:00, 16.8MB/s]\n"
          ]
        }
      ]
    },
    {
      "cell_type": "code",
      "metadata": {
        "id": "lh1_9RMgMk64"
      },
      "source": [
        "#hide\n",
        "from fastai.tabular.all import *"
      ],
      "execution_count": 2,
      "outputs": []
    },
    {
      "cell_type": "code",
      "metadata": {
        "id": "xXn64HY1uV9F"
      },
      "source": [
        "#hide\n",
        "filename = \"seeds.csv\"\n",
        "path = Path(\"/content/\")"
      ],
      "execution_count": 3,
      "outputs": []
    },
    {
      "cell_type": "markdown",
      "metadata": {
        "id": "VhvjgoDYl-kV"
      },
      "source": [
        "#Cover Page\n",
        "### Developed by:\n",
        "*   Mohamed Salah Eldin - 41810303\n",
        "*   Fatma Mohamed - 41810121\n",
        "\n"
      ]
    },
    {
      "cell_type": "code",
      "metadata": {
        "id": "v2z14kJrrot6"
      },
      "source": [
        ""
      ],
      "execution_count": 3,
      "outputs": []
    },
    {
      "cell_type": "code",
      "metadata": {
        "id": "h__mJ3iX3uxX"
      },
      "source": [
        ""
      ],
      "execution_count": 3,
      "outputs": []
    },
    {
      "cell_type": "markdown",
      "metadata": {
        "id": "G-kUJkYM57Gw"
      },
      "source": [
        "# Problem Definition\n",
        "**This data was acquired from the 'UCI Center for Machine Learning' repository. It contains seven variables for three distinct types of wheat kernels: (Kama, Rosa, Canadian) designated as numerical variables 1, 2 & 3 respectively The last column is reserved for the Kernel type.**"
      ]
    },
    {
      "cell_type": "code",
      "metadata": {
        "colab": {
          "base_uri": "https://localhost:8080/",
          "height": 206
        },
        "id": "9RD_LLFBN9i2",
        "outputId": "199133ed-9367-4056-f331-1c1a51cbfc1d"
      },
      "source": [
        "df = pd.read_csv(filename)\n",
        "df.head()"
      ],
      "execution_count": 4,
      "outputs": [
        {
          "output_type": "execute_result",
          "data": {
            "text/html": [
              "<div>\n",
              "<style scoped>\n",
              "    .dataframe tbody tr th:only-of-type {\n",
              "        vertical-align: middle;\n",
              "    }\n",
              "\n",
              "    .dataframe tbody tr th {\n",
              "        vertical-align: top;\n",
              "    }\n",
              "\n",
              "    .dataframe thead th {\n",
              "        text-align: right;\n",
              "    }\n",
              "</style>\n",
              "<table border=\"1\" class=\"dataframe\">\n",
              "  <thead>\n",
              "    <tr style=\"text-align: right;\">\n",
              "      <th></th>\n",
              "      <th>Area</th>\n",
              "      <th>Perimeter</th>\n",
              "      <th>Compactness</th>\n",
              "      <th>Kernel.Length</th>\n",
              "      <th>Kernel.Width</th>\n",
              "      <th>Asymmetry.Coeff</th>\n",
              "      <th>Kernel.Groove</th>\n",
              "      <th>Type</th>\n",
              "    </tr>\n",
              "  </thead>\n",
              "  <tbody>\n",
              "    <tr>\n",
              "      <th>0</th>\n",
              "      <td>15.26</td>\n",
              "      <td>14.84</td>\n",
              "      <td>0.8710</td>\n",
              "      <td>5.763</td>\n",
              "      <td>3.312</td>\n",
              "      <td>2.221</td>\n",
              "      <td>5.220</td>\n",
              "      <td>1</td>\n",
              "    </tr>\n",
              "    <tr>\n",
              "      <th>1</th>\n",
              "      <td>14.88</td>\n",
              "      <td>14.57</td>\n",
              "      <td>0.8811</td>\n",
              "      <td>5.554</td>\n",
              "      <td>3.333</td>\n",
              "      <td>1.018</td>\n",
              "      <td>4.956</td>\n",
              "      <td>1</td>\n",
              "    </tr>\n",
              "    <tr>\n",
              "      <th>2</th>\n",
              "      <td>14.29</td>\n",
              "      <td>14.09</td>\n",
              "      <td>0.9050</td>\n",
              "      <td>5.291</td>\n",
              "      <td>3.337</td>\n",
              "      <td>2.699</td>\n",
              "      <td>4.825</td>\n",
              "      <td>1</td>\n",
              "    </tr>\n",
              "    <tr>\n",
              "      <th>3</th>\n",
              "      <td>13.84</td>\n",
              "      <td>13.94</td>\n",
              "      <td>0.8955</td>\n",
              "      <td>5.324</td>\n",
              "      <td>3.379</td>\n",
              "      <td>2.259</td>\n",
              "      <td>4.805</td>\n",
              "      <td>1</td>\n",
              "    </tr>\n",
              "    <tr>\n",
              "      <th>4</th>\n",
              "      <td>16.14</td>\n",
              "      <td>14.99</td>\n",
              "      <td>0.9034</td>\n",
              "      <td>5.658</td>\n",
              "      <td>3.562</td>\n",
              "      <td>1.355</td>\n",
              "      <td>5.175</td>\n",
              "      <td>1</td>\n",
              "    </tr>\n",
              "  </tbody>\n",
              "</table>\n",
              "</div>"
            ],
            "text/plain": [
              "    Area  Perimeter  Compactness  ...  Asymmetry.Coeff  Kernel.Groove  Type\n",
              "0  15.26      14.84       0.8710  ...            2.221          5.220     1\n",
              "1  14.88      14.57       0.8811  ...            1.018          4.956     1\n",
              "2  14.29      14.09       0.9050  ...            2.699          4.825     1\n",
              "3  13.84      13.94       0.8955  ...            2.259          4.805     1\n",
              "4  16.14      14.99       0.9034  ...            1.355          5.175     1\n",
              "\n",
              "[5 rows x 8 columns]"
            ]
          },
          "metadata": {},
          "execution_count": 4
        }
      ]
    },
    {
      "cell_type": "markdown",
      "metadata": {
        "id": "WLV3xSQ3FxRp"
      },
      "source": [
        "# Method\n",
        "In order to accomplish accurate classification easily and quickly, we've opted for the FastAI library as it has excellent support for tabular data and makes cutting edge mdoels and techniques readily available.\n",
        "\n",
        "We use 20% of the dataset for validation, and the seed has been set to 123 to ensure that the dataset is split in the same way each time the code is run, to ensure repeatability.\n",
        "\n",
        "We've set it to normalize any continuous data (All fields), fill any missing fields and to categorify our variables (Type).\n",
        "\n",
        "We've identified which columns are discrete and which are continuous too."
      ]
    },
    {
      "cell_type": "code",
      "metadata": {
        "id": "V_wEWpM5_gvG"
      },
      "source": [
        "seed = 123\n",
        "use_seed = True;"
      ],
      "execution_count": 5,
      "outputs": []
    },
    {
      "cell_type": "code",
      "metadata": {
        "id": "0tvulVu9TAzI"
      },
      "source": [
        "splits = RandomSplitter(valid_pct=0.4, seed=seed)(range_of(df))\n",
        "procs=[Categorify, FillMissing, Normalize]\n",
        "\n",
        "cat_names=[\"Type\"]\n",
        "cont_names = ['Area','Perimeter','Compactness','Kernel.Length',\n",
        "           'Kernel.Width','Asymmetry.Coeff','Kernel.Groove']\n",
        "\n",
        "cont,cat = cont_cat_split(df, 1, dep_var='Type')\n",
        "\n",
        "to = TabularPandas(df, procs=procs, cont_names=cont, cat_names=cat,\n",
        "                   y_names='Type', splits=splits)"
      ],
      "execution_count": 6,
      "outputs": []
    },
    {
      "cell_type": "code",
      "metadata": {
        "id": "5kc5K4Y_-NPX"
      },
      "source": [
        "if use_seed: set_seed(seed, True)"
      ],
      "execution_count": 7,
      "outputs": []
    },
    {
      "cell_type": "markdown",
      "metadata": {
        "id": "tdlC0QrkgIlR"
      },
      "source": [
        "The batch size is set to 22. After experimentation we found that this batch size provided good accuracy after 10 epochs or so.\n",
        "\n",
        "Decreasing the batch size leads to faster training and overfitting, but also gives over all lower accuracy."
      ]
    },
    {
      "cell_type": "code",
      "metadata": {
        "id": "EMR245YATtM0"
      },
      "source": [
        "dls = to.dataloaders(bs=22)\n",
        "if use_seed: dls.rng.seed(seed, True)"
      ],
      "execution_count": 8,
      "outputs": []
    },
    {
      "cell_type": "code",
      "metadata": {
        "colab": {
          "base_uri": "https://localhost:8080/",
          "height": 363
        },
        "id": "4IRytG4cOzIr",
        "outputId": "b50b00b8-3847-49d2-8063-d3ec711fa207"
      },
      "source": [
        "dls.show_batch()"
      ],
      "execution_count": 9,
      "outputs": [
        {
          "output_type": "display_data",
          "data": {
            "text/html": [
              "<table border=\"1\" class=\"dataframe\">\n",
              "  <thead>\n",
              "    <tr style=\"text-align: right;\">\n",
              "      <th></th>\n",
              "      <th>Area</th>\n",
              "      <th>Perimeter</th>\n",
              "      <th>Compactness</th>\n",
              "      <th>Kernel.Length</th>\n",
              "      <th>Kernel.Width</th>\n",
              "      <th>Asymmetry.Coeff</th>\n",
              "      <th>Kernel.Groove</th>\n",
              "      <th>Type</th>\n",
              "    </tr>\n",
              "  </thead>\n",
              "  <tbody>\n",
              "    <tr>\n",
              "      <th>0</th>\n",
              "      <td>18.719999</td>\n",
              "      <td>16.340000</td>\n",
              "      <td>0.8810</td>\n",
              "      <td>6.219</td>\n",
              "      <td>3.684</td>\n",
              "      <td>2.188</td>\n",
              "      <td>6.097</td>\n",
              "      <td>2.0</td>\n",
              "    </tr>\n",
              "    <tr>\n",
              "      <th>1</th>\n",
              "      <td>14.330000</td>\n",
              "      <td>14.280000</td>\n",
              "      <td>0.8831</td>\n",
              "      <td>5.504</td>\n",
              "      <td>3.199</td>\n",
              "      <td>3.328</td>\n",
              "      <td>5.224</td>\n",
              "      <td>1.0</td>\n",
              "    </tr>\n",
              "    <tr>\n",
              "      <th>2</th>\n",
              "      <td>13.220000</td>\n",
              "      <td>13.840000</td>\n",
              "      <td>0.8680</td>\n",
              "      <td>5.395</td>\n",
              "      <td>3.070</td>\n",
              "      <td>4.157</td>\n",
              "      <td>5.088</td>\n",
              "      <td>1.0</td>\n",
              "    </tr>\n",
              "    <tr>\n",
              "      <th>3</th>\n",
              "      <td>12.540000</td>\n",
              "      <td>13.670000</td>\n",
              "      <td>0.8425</td>\n",
              "      <td>5.451</td>\n",
              "      <td>2.879</td>\n",
              "      <td>3.082</td>\n",
              "      <td>5.491</td>\n",
              "      <td>3.0</td>\n",
              "    </tr>\n",
              "    <tr>\n",
              "      <th>4</th>\n",
              "      <td>17.360001</td>\n",
              "      <td>15.760000</td>\n",
              "      <td>0.8785</td>\n",
              "      <td>6.145</td>\n",
              "      <td>3.574</td>\n",
              "      <td>3.526</td>\n",
              "      <td>5.971</td>\n",
              "      <td>2.0</td>\n",
              "    </tr>\n",
              "    <tr>\n",
              "      <th>5</th>\n",
              "      <td>17.320000</td>\n",
              "      <td>15.910000</td>\n",
              "      <td>0.8599</td>\n",
              "      <td>6.064</td>\n",
              "      <td>3.403</td>\n",
              "      <td>3.824</td>\n",
              "      <td>5.922</td>\n",
              "      <td>2.0</td>\n",
              "    </tr>\n",
              "    <tr>\n",
              "      <th>6</th>\n",
              "      <td>10.790000</td>\n",
              "      <td>12.930000</td>\n",
              "      <td>0.8107</td>\n",
              "      <td>5.317</td>\n",
              "      <td>2.648</td>\n",
              "      <td>5.462</td>\n",
              "      <td>5.194</td>\n",
              "      <td>3.0</td>\n",
              "    </tr>\n",
              "    <tr>\n",
              "      <th>7</th>\n",
              "      <td>18.980000</td>\n",
              "      <td>16.660000</td>\n",
              "      <td>0.8590</td>\n",
              "      <td>6.549</td>\n",
              "      <td>3.670</td>\n",
              "      <td>3.691</td>\n",
              "      <td>6.498</td>\n",
              "      <td>2.0</td>\n",
              "    </tr>\n",
              "    <tr>\n",
              "      <th>8</th>\n",
              "      <td>20.200001</td>\n",
              "      <td>16.889999</td>\n",
              "      <td>0.8894</td>\n",
              "      <td>6.285</td>\n",
              "      <td>3.864</td>\n",
              "      <td>5.173</td>\n",
              "      <td>6.187</td>\n",
              "      <td>2.0</td>\n",
              "    </tr>\n",
              "    <tr>\n",
              "      <th>9</th>\n",
              "      <td>12.730000</td>\n",
              "      <td>13.750000</td>\n",
              "      <td>0.8458</td>\n",
              "      <td>5.412</td>\n",
              "      <td>2.882</td>\n",
              "      <td>3.533</td>\n",
              "      <td>5.067</td>\n",
              "      <td>1.0</td>\n",
              "    </tr>\n",
              "  </tbody>\n",
              "</table>"
            ],
            "text/plain": [
              "<IPython.core.display.HTML object>"
            ]
          },
          "metadata": {}
        }
      ]
    },
    {
      "cell_type": "markdown",
      "metadata": {
        "id": "H8S6q-97gaV_"
      },
      "source": [
        "# Experiment\n",
        "A FastAI tabular learner object is instantiated. By default tabular learners have 2 hidden layers with 200 and 100 activations respectively, this was changed to 1000 and 00 activations respectively as that gave on average 1-2% better accuracy. Adding more hidden layers did not seem to provide any significant advantages."
      ]
    },
    {
      "cell_type": "code",
      "metadata": {
        "id": "O6fLKWBOO8EO"
      },
      "source": [
        "learn = tabular_learner(dls, metrics=accuracy_multi, layers=[1000,50])"
      ],
      "execution_count": 10,
      "outputs": []
    },
    {
      "cell_type": "markdown",
      "metadata": {
        "id": "zQMRNmdchEei"
      },
      "source": [
        "lr_find does mock training over a large range of learning rates and graphs the loss for us. As per the recommendations in the fastai documentation for 1cycle, we pick a maximum learning rate that is an order of magnitude below the minima."
      ]
    },
    {
      "cell_type": "code",
      "metadata": {
        "colab": {
          "base_uri": "https://localhost:8080/",
          "height": 301
        },
        "id": "RjsXyzEODEcQ",
        "outputId": "d554a762-be89-44c3-a867-8db80657b84e"
      },
      "source": [
        "learn.lr_find()"
      ],
      "execution_count": 11,
      "outputs": [
        {
          "output_type": "display_data",
          "data": {
            "text/html": [
              ""
            ],
            "text/plain": [
              "<IPython.core.display.HTML object>"
            ]
          },
          "metadata": {}
        },
        {
          "output_type": "execute_result",
          "data": {
            "text/plain": [
              "SuggestedLRs(valley=0.00363078061491251)"
            ]
          },
          "metadata": {},
          "execution_count": 11
        },
        {
          "output_type": "display_data",
          "data": {
            "image/png": "[encoded data removed]",
            "text/plain": [
              "<Figure size 432x288 with 1 Axes>"
            ]
          },
          "metadata": {
            "needs_background": "light"
          }
        }
      ]
    },
    {
      "cell_type": "markdown",
      "metadata": {
        "id": "TnzxMToQjdu5"
      },
      "source": [
        "We're using the 1cycle technique to fit our model here, this is a relatively new technique that allows you to get convergence with less epochs. It works by varying the learning rate throughout the duration of the training."
      ]
    },
    {
      "cell_type": "code",
      "metadata": {
        "colab": {
          "base_uri": "https://localhost:8080/",
          "height": 676
        },
        "id": "rF-dAO71PDwg",
        "outputId": "d65a2d48-762d-4589-bb09-47c1282d77fa"
      },
      "source": [
        "learn.fit_one_cycle(20, lr_max=1e-2)"
      ],
      "execution_count": 12,
      "outputs": [
        {
          "output_type": "display_data",
          "data": {
            "text/html": [
              "<table border=\"1\" class=\"dataframe\">\n",
              "  <thead>\n",
              "    <tr style=\"text-align: left;\">\n",
              "      <th>epoch</th>\n",
              "      <th>train_loss</th>\n",
              "      <th>valid_loss</th>\n",
              "      <th>accuracy_multi</th>\n",
              "      <th>time</th>\n",
              "    </tr>\n",
              "  </thead>\n",
              "  <tbody>\n",
              "    <tr>\n",
              "      <td>0</td>\n",
              "      <td>4.652903</td>\n",
              "      <td>4.078217</td>\n",
              "      <td>0.481013</td>\n",
              "      <td>00:00</td>\n",
              "    </tr>\n",
              "    <tr>\n",
              "      <td>1</td>\n",
              "      <td>4.520117</td>\n",
              "      <td>3.825117</td>\n",
              "      <td>0.405063</td>\n",
              "      <td>00:00</td>\n",
              "    </tr>\n",
              "    <tr>\n",
              "      <td>2</td>\n",
              "      <td>4.426299</td>\n",
              "      <td>3.703963</td>\n",
              "      <td>0.594937</td>\n",
              "      <td>00:00</td>\n",
              "    </tr>\n",
              "    <tr>\n",
              "      <td>3</td>\n",
              "      <td>4.243644</td>\n",
              "      <td>3.715992</td>\n",
              "      <td>0.594937</td>\n",
              "      <td>00:00</td>\n",
              "    </tr>\n",
              "    <tr>\n",
              "      <td>4</td>\n",
              "      <td>3.953643</td>\n",
              "      <td>2.540791</td>\n",
              "      <td>0.683544</td>\n",
              "      <td>00:00</td>\n",
              "    </tr>\n",
              "    <tr>\n",
              "      <td>5</td>\n",
              "      <td>3.504402</td>\n",
              "      <td>1.503127</td>\n",
              "      <td>0.759494</td>\n",
              "      <td>00:00</td>\n",
              "    </tr>\n",
              "    <tr>\n",
              "      <td>6</td>\n",
              "      <td>2.977572</td>\n",
              "      <td>0.363583</td>\n",
              "      <td>1.000000</td>\n",
              "      <td>00:00</td>\n",
              "    </tr>\n",
              "    <tr>\n",
              "      <td>7</td>\n",
              "      <td>2.505000</td>\n",
              "      <td>0.305809</td>\n",
              "      <td>1.000000</td>\n",
              "      <td>00:00</td>\n",
              "    </tr>\n",
              "    <tr>\n",
              "      <td>8</td>\n",
              "      <td>2.157396</td>\n",
              "      <td>0.231095</td>\n",
              "      <td>1.000000</td>\n",
              "      <td>00:00</td>\n",
              "    </tr>\n",
              "    <tr>\n",
              "      <td>9</td>\n",
              "      <td>1.873327</td>\n",
              "      <td>0.305382</td>\n",
              "      <td>1.000000</td>\n",
              "      <td>00:00</td>\n",
              "    </tr>\n",
              "    <tr>\n",
              "      <td>10</td>\n",
              "      <td>1.644019</td>\n",
              "      <td>0.230000</td>\n",
              "      <td>1.000000</td>\n",
              "      <td>00:00</td>\n",
              "    </tr>\n",
              "    <tr>\n",
              "      <td>11</td>\n",
              "      <td>1.439846</td>\n",
              "      <td>0.154304</td>\n",
              "      <td>1.000000</td>\n",
              "      <td>00:00</td>\n",
              "    </tr>\n",
              "    <tr>\n",
              "      <td>12</td>\n",
              "      <td>1.270032</td>\n",
              "      <td>0.173957</td>\n",
              "      <td>1.000000</td>\n",
              "      <td>00:00</td>\n",
              "    </tr>\n",
              "    <tr>\n",
              "      <td>13</td>\n",
              "      <td>1.121821</td>\n",
              "      <td>0.162217</td>\n",
              "      <td>1.000000</td>\n",
              "      <td>00:00</td>\n",
              "    </tr>\n",
              "    <tr>\n",
              "      <td>14</td>\n",
              "      <td>0.998056</td>\n",
              "      <td>0.139121</td>\n",
              "      <td>1.000000</td>\n",
              "      <td>00:00</td>\n",
              "    </tr>\n",
              "    <tr>\n",
              "      <td>15</td>\n",
              "      <td>0.888203</td>\n",
              "      <td>0.128376</td>\n",
              "      <td>1.000000</td>\n",
              "      <td>00:00</td>\n",
              "    </tr>\n",
              "    <tr>\n",
              "      <td>16</td>\n",
              "      <td>0.806196</td>\n",
              "      <td>0.124002</td>\n",
              "      <td>1.000000</td>\n",
              "      <td>00:00</td>\n",
              "    </tr>\n",
              "    <tr>\n",
              "      <td>17</td>\n",
              "      <td>0.729500</td>\n",
              "      <td>0.124765</td>\n",
              "      <td>1.000000</td>\n",
              "      <td>00:00</td>\n",
              "    </tr>\n",
              "    <tr>\n",
              "      <td>18</td>\n",
              "      <td>0.657853</td>\n",
              "      <td>0.125011</td>\n",
              "      <td>1.000000</td>\n",
              "      <td>00:00</td>\n",
              "    </tr>\n",
              "    <tr>\n",
              "      <td>19</td>\n",
              "      <td>0.594102</td>\n",
              "      <td>0.125762</td>\n",
              "      <td>1.000000</td>\n",
              "      <td>00:00</td>\n",
              "    </tr>\n",
              "  </tbody>\n",
              "</table>"
            ],
            "text/plain": [
              "<IPython.core.display.HTML object>"
            ]
          },
          "metadata": {}
        }
      ]
    },
    {
      "cell_type": "markdown",
      "metadata": {
        "id": "OihdN-JtiQHS"
      },
      "source": [
        "We can see that overfitting starts happening after epoch 10~, though it is not significant."
      ]
    },
    {
      "cell_type": "code",
      "metadata": {
        "id": "oPMnQ88pkc2Y",
        "colab": {
          "base_uri": "https://localhost:8080/",
          "height": 265
        },
        "outputId": "20a0d696-5ca7-4db7-bdb0-9134c3bf4ef8"
      },
      "source": [
        "learn.recorder.plot_loss()"
      ],
      "execution_count": 13,
      "outputs": [
        {
          "output_type": "display_data",
          "data": {
            "image/png": "[encoded data removed]",
            "text/plain": [
              "<Figure size 432x288 with 1 Axes>"
            ]
          },
          "metadata": {
            "needs_background": "light"
          }
        }
      ]
    },
    {
      "cell_type": "markdown",
      "metadata": {
        "id": "En6yNl9bicGN"
      },
      "source": [
        "Below is a table that shows the predictions the trained model made on a few rows from the training dataset."
      ]
    },
    {
      "cell_type": "code",
      "metadata": {
        "id": "6UcsUt0chpGh",
        "colab": {
          "base_uri": "https://localhost:8080/",
          "height": 331
        },
        "outputId": "e3dbd6ba-e539-4291-ae99-a60bdac28dd1"
      },
      "source": [
        "learn.show_results()"
      ],
      "execution_count": 14,
      "outputs": [
        {
          "output_type": "display_data",
          "data": {
            "text/html": [
              ""
            ],
            "text/plain": [
              "<IPython.core.display.HTML object>"
            ]
          },
          "metadata": {}
        },
        {
          "output_type": "display_data",
          "data": {
            "text/html": [
              "<table border=\"1\" class=\"dataframe\">\n",
              "  <thead>\n",
              "    <tr style=\"text-align: right;\">\n",
              "      <th></th>\n",
              "      <th>Area</th>\n",
              "      <th>Perimeter</th>\n",
              "      <th>Compactness</th>\n",
              "      <th>Kernel.Length</th>\n",
              "      <th>Kernel.Width</th>\n",
              "      <th>Asymmetry.Coeff</th>\n",
              "      <th>Kernel.Groove</th>\n",
              "      <th>Type</th>\n",
              "      <th>Type_pred</th>\n",
              "    </tr>\n",
              "  </thead>\n",
              "  <tbody>\n",
              "    <tr>\n",
              "      <th>0</th>\n",
              "      <td>0.275778</td>\n",
              "      <td>0.435411</td>\n",
              "      <td>-0.457414</td>\n",
              "      <td>0.471699</td>\n",
              "      <td>0.106976</td>\n",
              "      <td>-0.793124</td>\n",
              "      <td>0.696438</td>\n",
              "      <td>2.0</td>\n",
              "      <td>1.569622</td>\n",
              "    </tr>\n",
              "    <tr>\n",
              "      <th>1</th>\n",
              "      <td>-0.248292</td>\n",
              "      <td>-0.276841</td>\n",
              "      <td>0.410093</td>\n",
              "      <td>-0.420867</td>\n",
              "      <td>-0.107396</td>\n",
              "      <td>-1.473446</td>\n",
              "      <td>-0.838529</td>\n",
              "      <td>1.0</td>\n",
              "      <td>0.911283</td>\n",
              "    </tr>\n",
              "    <tr>\n",
              "      <th>2</th>\n",
              "      <td>0.462708</td>\n",
              "      <td>0.600354</td>\n",
              "      <td>-0.200373</td>\n",
              "      <td>0.501149</td>\n",
              "      <td>0.381875</td>\n",
              "      <td>0.246932</td>\n",
              "      <td>0.784326</td>\n",
              "      <td>2.0</td>\n",
              "      <td>1.991730</td>\n",
              "    </tr>\n",
              "    <tr>\n",
              "      <th>3</th>\n",
              "      <td>-0.094743</td>\n",
              "      <td>0.060542</td>\n",
              "      <td>-0.626095</td>\n",
              "      <td>0.206648</td>\n",
              "      <td>-0.329333</td>\n",
              "      <td>0.145694</td>\n",
              "      <td>-0.031189</td>\n",
              "      <td>1.0</td>\n",
              "      <td>1.232438</td>\n",
              "    </tr>\n",
              "    <tr>\n",
              "      <th>4</th>\n",
              "      <td>1.537552</td>\n",
              "      <td>1.642490</td>\n",
              "      <td>0.088793</td>\n",
              "      <td>1.538701</td>\n",
              "      <td>1.380593</td>\n",
              "      <td>-0.149923</td>\n",
              "      <td>1.131789</td>\n",
              "      <td>2.0</td>\n",
              "      <td>2.000960</td>\n",
              "    </tr>\n",
              "    <tr>\n",
              "      <th>5</th>\n",
              "      <td>-0.839123</td>\n",
              "      <td>-0.696694</td>\n",
              "      <td>-1.449424</td>\n",
              "      <td>-0.488829</td>\n",
              "      <td>-1.035497</td>\n",
              "      <td>0.577644</td>\n",
              "      <td>-0.104769</td>\n",
              "      <td>3.0</td>\n",
              "      <td>2.740427</td>\n",
              "    </tr>\n",
              "    <tr>\n",
              "      <th>6</th>\n",
              "      <td>-0.762349</td>\n",
              "      <td>-0.801657</td>\n",
              "      <td>-0.144146</td>\n",
              "      <td>-0.808249</td>\n",
              "      <td>-0.697547</td>\n",
              "      <td>0.351545</td>\n",
              "      <td>-0.836485</td>\n",
              "      <td>3.0</td>\n",
              "      <td>2.263345</td>\n",
              "    </tr>\n",
              "    <tr>\n",
              "      <th>7</th>\n",
              "      <td>0.305820</td>\n",
              "      <td>0.165505</td>\n",
              "      <td>1.462346</td>\n",
              "      <td>-0.219247</td>\n",
              "      <td>0.681995</td>\n",
              "      <td>-1.553087</td>\n",
              "      <td>-0.746553</td>\n",
              "      <td>1.0</td>\n",
              "      <td>1.210663</td>\n",
              "    </tr>\n",
              "    <tr>\n",
              "      <th>8</th>\n",
              "      <td>0.486074</td>\n",
              "      <td>0.487893</td>\n",
              "      <td>0.626969</td>\n",
              "      <td>0.562316</td>\n",
              "      <td>0.576070</td>\n",
              "      <td>-0.088505</td>\n",
              "      <td>1.043901</td>\n",
              "      <td>2.0</td>\n",
              "      <td>2.085140</td>\n",
              "    </tr>\n",
              "  </tbody>\n",
              "</table>"
            ],
            "text/plain": [
              "<IPython.core.display.HTML object>"
            ]
          },
          "metadata": {}
        }
      ]
    },
    {
      "cell_type": "markdown",
      "metadata": {
        "id": "NXLpQBpAlf6x"
      },
      "source": [
        "Below some example code is provided that does inference on one row. Feel free to modify it."
      ]
    },
    {
      "cell_type": "code",
      "metadata": {
        "id": "wS-NJiyXPPUu",
        "colab": {
          "base_uri": "https://localhost:8080/"
        },
        "outputId": "0c8a8e94-5c66-49c4-dd49-e6b224332d17"
      },
      "source": [
        "df.iloc[50]\n"
      ],
      "execution_count": 15,
      "outputs": [
        {
          "output_type": "execute_result",
          "data": {
            "text/plain": [
              "Area               14.4900\n",
              "Perimeter          14.6100\n",
              "Compactness         0.8538\n",
              "Kernel.Length       5.7150\n",
              "Kernel.Width        3.1130\n",
              "Asymmetry.Coeff     4.1160\n",
              "Kernel.Groove       5.3960\n",
              "Type                1.0000\n",
              "Name: 50, dtype: float64"
            ]
          },
          "metadata": {},
          "execution_count": 15
        }
      ]
    },
    {
      "cell_type": "code",
      "metadata": {
        "id": "0dOA5ruagxj1"
      },
      "source": [
        "df.iloc[50] = [15.26,14.84,0.871,5.763,3.312,2.221,5.22,3]\n"
      ],
      "execution_count": 16,
      "outputs": []
    },
    {
      "cell_type": "code",
      "metadata": {
        "id": "tCCrlL3-e_ib",
        "colab": {
          "base_uri": "https://localhost:8080/",
          "height": 17
        },
        "outputId": "cd3c1b1e-310a-44aa-d3c6-d38b3552dcc9"
      },
      "source": [
        "row, clas, probs = learn.predict(df.iloc[50])"
      ],
      "execution_count": 17,
      "outputs": [
        {
          "output_type": "display_data",
          "data": {
            "text/html": [
              ""
            ],
            "text/plain": [
              "<IPython.core.display.HTML object>"
            ]
          },
          "metadata": {}
        }
      ]
    },
    {
      "cell_type": "code",
      "metadata": {
        "id": "zTHXvZvrhgez",
        "colab": {
          "base_uri": "https://localhost:8080/",
          "height": 81
        },
        "outputId": "e07683c8-c01c-4f7b-9285-8bb281ada4f9"
      },
      "source": [
        "row.show()"
      ],
      "execution_count": 18,
      "outputs": [
        {
          "output_type": "display_data",
          "data": {
            "text/html": [
              "<table border=\"1\" class=\"dataframe\">\n",
              "  <thead>\n",
              "    <tr style=\"text-align: right;\">\n",
              "      <th></th>\n",
              "      <th>Area</th>\n",
              "      <th>Perimeter</th>\n",
              "      <th>Compactness</th>\n",
              "      <th>Kernel.Length</th>\n",
              "      <th>Kernel.Width</th>\n",
              "      <th>Asymmetry.Coeff</th>\n",
              "      <th>Kernel.Groove</th>\n",
              "      <th>Type</th>\n",
              "    </tr>\n",
              "  </thead>\n",
              "  <tbody>\n",
              "    <tr>\n",
              "      <th>0</th>\n",
              "      <td>15.26</td>\n",
              "      <td>14.84</td>\n",
              "      <td>0.871</td>\n",
              "      <td>5.763</td>\n",
              "      <td>3.312</td>\n",
              "      <td>2.221</td>\n",
              "      <td>5.22</td>\n",
              "      <td>0.857998</td>\n",
              "    </tr>\n",
              "  </tbody>\n",
              "</table>"
            ],
            "text/plain": [
              "<IPython.core.display.HTML object>"
            ]
          },
          "metadata": {}
        }
      ]
    },
    {
      "cell_type": "code",
      "metadata": {
        "id": "D7igC3zrhgw3",
        "colab": {
          "base_uri": "https://localhost:8080/"
        },
        "outputId": "1bf446fd-756d-4be7-fc46-078a061d837f"
      },
      "source": [
        "clas, probs"
      ],
      "execution_count": 19,
      "outputs": [
        {
          "output_type": "execute_result",
          "data": {
            "text/plain": [
              "(tensor([0.8580]), tensor([0.8580]))"
            ]
          },
          "metadata": {},
          "execution_count": 19
        }
      ]
    }
  ]
}