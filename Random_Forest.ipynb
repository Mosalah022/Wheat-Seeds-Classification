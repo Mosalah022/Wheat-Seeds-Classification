{
  "nbformat": 4,
  "nbformat_minor": 0,
  "metadata": {
    "colab": {
      "name": " Random_Forest.ipynb",
      "provenance": [],
      "collapsed_sections": []
    },
    "kernelspec": {
      "name": "python3",
      "display_name": "Python 3"
    },
    "language_info": {
      "name": "python"
    }
  },
  "cells": [
    {
      "cell_type": "markdown",
      "metadata": {
        "id": "lgivaES92P4-"
      },
      "source": [
        "#Cover Page"
      ]
    },
    {
      "cell_type": "markdown",
      "metadata": {
        "id": "ez10MR3O2S8w"
      },
      "source": [
        "**Developed by:**\n",
        "\n",
        "**Mohamed Fathi - 41810059**\n",
        "\n",
        "**Ahmed Saber - 41810077**"
      ]
    },
    {
      "cell_type": "markdown",
      "metadata": {
        "id": "gXFeFTte2Xvz"
      },
      "source": [
        "#Import the dataset from drive"
      ]
    },
    {
      "cell_type": "code",
      "metadata": {
        "colab": {
          "base_uri": "https://localhost:8080/"
        },
        "id": "geH48OBq2dGa",
        "outputId": "aa076772-3f18-45ab-b3a7-71638e8ae668"
      },
      "source": [
        "!gdown --id 1MbUWPsEZJ_Dana5RC07wUGTIgzN92Uld"
      ],
      "execution_count": null,
      "outputs": [
        {
          "output_type": "stream",
          "name": "stdout",
          "text": [
            "Downloading...\n",
            "From: https://drive.google.com/uc?id=1MbUWPsEZJ_Dana5RC07wUGTIgzN92Uld\n",
            "To: /content/seeds.csv\n",
            "\r  0% 0.00/9.12k [00:00<?, ?B/s]\r100% 9.12k/9.12k [00:00<00:00, 7.87MB/s]\n"
          ]
        }
      ]
    },
    {
      "cell_type": "markdown",
      "metadata": {
        "id": "dtDMUzWp2n2R"
      },
      "source": [
        "#Importing libraries"
      ]
    },
    {
      "cell_type": "code",
      "metadata": {
        "id": "0UY8ETuDcCP7"
      },
      "source": [
        "import pandas as pd\n",
        "import seaborn as sns\n",
        "import numpy as np\n",
        "from sklearn.neighbors import KNeighborsClassifier\n",
        "import matplotlib.pyplot as plt\n",
        "from sklearn.metrics import confusion_matrix,accuracy_score\n",
        "from sklearn.model_selection import train_test_split\n",
        "from sklearn.preprocessing import StandardScaler\n",
        "from sklearn.ensemble import RandomForestClassifier\n",
        "from sklearn.metrics import mean_squared_error\n",
        "from sklearn.metrics import mean_absolute_error"
      ],
      "execution_count": null,
      "outputs": []
    },
    {
      "cell_type": "markdown",
      "metadata": {
        "id": "S8jzMeXj2pTd"
      },
      "source": [
        "# show how the data looks like"
      ]
    },
    {
      "cell_type": "code",
      "metadata": {
        "colab": {
          "base_uri": "https://localhost:8080/",
          "height": 203
        },
        "id": "xGLS09BicZNZ",
        "outputId": "204fa2e9-96e0-4199-9926-311eff0cbd98"
      },
      "source": [
        "data = pd.read_csv('seeds.csv')\n",
        "data.head(5)"
      ],
      "execution_count": null,
      "outputs": [
        {
          "output_type": "execute_result",
          "data": {
            "text/html": [
              "<div>\n",
              "<style scoped>\n",
              "    .dataframe tbody tr th:only-of-type {\n",
              "        vertical-align: middle;\n",
              "    }\n",
              "\n",
              "    .dataframe tbody tr th {\n",
              "        vertical-align: top;\n",
              "    }\n",
              "\n",
              "    .dataframe thead th {\n",
              "        text-align: right;\n",
              "    }\n",
              "</style>\n",
              "<table border=\"1\" class=\"dataframe\">\n",
              "  <thead>\n",
              "    <tr style=\"text-align: right;\">\n",
              "      <th></th>\n",
              "      <th>Area</th>\n",
              "      <th>Perimeter</th>\n",
              "      <th>Compactness</th>\n",
              "      <th>Kernel.Length</th>\n",
              "      <th>Kernel.Width</th>\n",
              "      <th>Asymmetry.Coeff</th>\n",
              "      <th>Kernel.Groove</th>\n",
              "      <th>Type</th>\n",
              "    </tr>\n",
              "  </thead>\n",
              "  <tbody>\n",
              "    <tr>\n",
              "      <th>0</th>\n",
              "      <td>15.26</td>\n",
              "      <td>14.84</td>\n",
              "      <td>0.8710</td>\n",
              "      <td>5.763</td>\n",
              "      <td>3.312</td>\n",
              "      <td>2.221</td>\n",
              "      <td>5.220</td>\n",
              "      <td>1</td>\n",
              "    </tr>\n",
              "    <tr>\n",
              "      <th>1</th>\n",
              "      <td>14.88</td>\n",
              "      <td>14.57</td>\n",
              "      <td>0.8811</td>\n",
              "      <td>5.554</td>\n",
              "      <td>3.333</td>\n",
              "      <td>1.018</td>\n",
              "      <td>4.956</td>\n",
              "      <td>1</td>\n",
              "    </tr>\n",
              "    <tr>\n",
              "      <th>2</th>\n",
              "      <td>14.29</td>\n",
              "      <td>14.09</td>\n",
              "      <td>0.9050</td>\n",
              "      <td>5.291</td>\n",
              "      <td>3.337</td>\n",
              "      <td>2.699</td>\n",
              "      <td>4.825</td>\n",
              "      <td>1</td>\n",
              "    </tr>\n",
              "    <tr>\n",
              "      <th>3</th>\n",
              "      <td>13.84</td>\n",
              "      <td>13.94</td>\n",
              "      <td>0.8955</td>\n",
              "      <td>5.324</td>\n",
              "      <td>3.379</td>\n",
              "      <td>2.259</td>\n",
              "      <td>4.805</td>\n",
              "      <td>1</td>\n",
              "    </tr>\n",
              "    <tr>\n",
              "      <th>4</th>\n",
              "      <td>16.14</td>\n",
              "      <td>14.99</td>\n",
              "      <td>0.9034</td>\n",
              "      <td>5.658</td>\n",
              "      <td>3.562</td>\n",
              "      <td>1.355</td>\n",
              "      <td>5.175</td>\n",
              "      <td>1</td>\n",
              "    </tr>\n",
              "  </tbody>\n",
              "</table>\n",
              "</div>"
            ],
            "text/plain": [
              "    Area  Perimeter  Compactness  ...  Asymmetry.Coeff  Kernel.Groove  Type\n",
              "0  15.26      14.84       0.8710  ...            2.221          5.220     1\n",
              "1  14.88      14.57       0.8811  ...            1.018          4.956     1\n",
              "2  14.29      14.09       0.9050  ...            2.699          4.825     1\n",
              "3  13.84      13.94       0.8955  ...            2.259          4.805     1\n",
              "4  16.14      14.99       0.9034  ...            1.355          5.175     1\n",
              "\n",
              "[5 rows x 8 columns]"
            ]
          },
          "metadata": {},
          "execution_count": 171
        }
      ]
    },
    {
      "cell_type": "markdown",
      "metadata": {
        "id": "aY66IAa322Q9"
      },
      "source": [
        "#Normalization"
      ]
    },
    {
      "cell_type": "code",
      "metadata": {
        "colab": {
          "base_uri": "https://localhost:8080/",
          "height": 203
        },
        "id": "UdijY5_E24SE",
        "outputId": "d2218027-01f1-4aba-f529-4bd3af6b5909"
      },
      "source": [
        "df = data.drop('Type', axis=1)\n",
        "df_norm = (df-df.min())/(df.max()-df.min())\n",
        "df_norm = pd.concat((df_norm, data.Type), 1)\n",
        "df_norm.head()"
      ],
      "execution_count": null,
      "outputs": [
        {
          "output_type": "execute_result",
          "data": {
            "text/html": [
              "<div>\n",
              "<style scoped>\n",
              "    .dataframe tbody tr th:only-of-type {\n",
              "        vertical-align: middle;\n",
              "    }\n",
              "\n",
              "    .dataframe tbody tr th {\n",
              "        vertical-align: top;\n",
              "    }\n",
              "\n",
              "    .dataframe thead th {\n",
              "        text-align: right;\n",
              "    }\n",
              "</style>\n",
              "<table border=\"1\" class=\"dataframe\">\n",
              "  <thead>\n",
              "    <tr style=\"text-align: right;\">\n",
              "      <th></th>\n",
              "      <th>Area</th>\n",
              "      <th>Perimeter</th>\n",
              "      <th>Compactness</th>\n",
              "      <th>Kernel.Length</th>\n",
              "      <th>Kernel.Width</th>\n",
              "      <th>Asymmetry.Coeff</th>\n",
              "      <th>Kernel.Groove</th>\n",
              "      <th>Type</th>\n",
              "    </tr>\n",
              "  </thead>\n",
              "  <tbody>\n",
              "    <tr>\n",
              "      <th>0</th>\n",
              "      <td>0.440982</td>\n",
              "      <td>0.502066</td>\n",
              "      <td>0.570780</td>\n",
              "      <td>0.486486</td>\n",
              "      <td>0.486101</td>\n",
              "      <td>0.192837</td>\n",
              "      <td>0.345150</td>\n",
              "      <td>1</td>\n",
              "    </tr>\n",
              "    <tr>\n",
              "      <th>1</th>\n",
              "      <td>0.405099</td>\n",
              "      <td>0.446281</td>\n",
              "      <td>0.662432</td>\n",
              "      <td>0.368806</td>\n",
              "      <td>0.501069</td>\n",
              "      <td>0.033497</td>\n",
              "      <td>0.215165</td>\n",
              "      <td>1</td>\n",
              "    </tr>\n",
              "    <tr>\n",
              "      <th>2</th>\n",
              "      <td>0.349386</td>\n",
              "      <td>0.347107</td>\n",
              "      <td>0.879310</td>\n",
              "      <td>0.220721</td>\n",
              "      <td>0.503920</td>\n",
              "      <td>0.256149</td>\n",
              "      <td>0.150665</td>\n",
              "      <td>1</td>\n",
              "    </tr>\n",
              "    <tr>\n",
              "      <th>3</th>\n",
              "      <td>0.306893</td>\n",
              "      <td>0.316116</td>\n",
              "      <td>0.793103</td>\n",
              "      <td>0.239302</td>\n",
              "      <td>0.533856</td>\n",
              "      <td>0.197870</td>\n",
              "      <td>0.140817</td>\n",
              "      <td>1</td>\n",
              "    </tr>\n",
              "    <tr>\n",
              "      <th>4</th>\n",
              "      <td>0.524079</td>\n",
              "      <td>0.533058</td>\n",
              "      <td>0.864791</td>\n",
              "      <td>0.427365</td>\n",
              "      <td>0.664291</td>\n",
              "      <td>0.078133</td>\n",
              "      <td>0.322994</td>\n",
              "      <td>1</td>\n",
              "    </tr>\n",
              "  </tbody>\n",
              "</table>\n",
              "</div>"
            ],
            "text/plain": [
              "       Area  Perimeter  Compactness  ...  Asymmetry.Coeff  Kernel.Groove  Type\n",
              "0  0.440982   0.502066     0.570780  ...         0.192837       0.345150     1\n",
              "1  0.405099   0.446281     0.662432  ...         0.033497       0.215165     1\n",
              "2  0.349386   0.347107     0.879310  ...         0.256149       0.150665     1\n",
              "3  0.306893   0.316116     0.793103  ...         0.197870       0.140817     1\n",
              "4  0.524079   0.533058     0.864791  ...         0.078133       0.322994     1\n",
              "\n",
              "[5 rows x 8 columns]"
            ]
          },
          "metadata": {},
          "execution_count": 172
        }
      ]
    },
    {
      "cell_type": "markdown",
      "metadata": {
        "id": "vHhcGt00-0-p"
      },
      "source": [
        "#Start Split the data and train"
      ]
    },
    {
      "cell_type": "code",
      "metadata": {
        "id": "Qxymtpubcg02",
        "colab": {
          "base_uri": "https://localhost:8080/"
        },
        "outputId": "fe7744c1-a1cb-44de-9da4-0936e5dd313c"
      },
      "source": [
        "X_train, X_test, y_train, y_test = train_test_split(df_norm.drop('Type', axis=1), df_norm['Type'], test_size = 0.20)\n",
        "print(len(X_train), \"train +\", len(X_test), \"valid\")"
      ],
      "execution_count": null,
      "outputs": [
        {
          "output_type": "stream",
          "name": "stdout",
          "text": [
            "159 train + 40 valid\n"
          ]
        }
      ]
    },
    {
      "cell_type": "markdown",
      "metadata": {
        "id": "q_u1dMW--7aS"
      },
      "source": [
        "#Using Random_Forest for trainning "
      ]
    },
    {
      "cell_type": "code",
      "metadata": {
        "colab": {
          "base_uri": "https://localhost:8080/"
        },
        "id": "-OUVpjF-eUv8",
        "outputId": "1d802c71-6db3-4817-cc55-c2e53170ac85"
      },
      "source": [
        "model = RandomForestClassifier()\n",
        "model.fit(X_train, y_train)"
      ],
      "execution_count": null,
      "outputs": [
        {
          "output_type": "execute_result",
          "data": {
            "text/plain": [
              "RandomForestClassifier()"
            ]
          },
          "metadata": {},
          "execution_count": 174
        }
      ]
    },
    {
      "cell_type": "code",
      "metadata": {
        "colab": {
          "base_uri": "https://localhost:8080/"
        },
        "id": "GQbyrSkjehk5",
        "outputId": "4cb9f093-ff75-4d88-e327-93871fccfbbc"
      },
      "source": [
        "y_pred = model.predict(X_test)\n",
        "cm = confusion_matrix(y_test, y_pred)\n",
        "cm"
      ],
      "execution_count": null,
      "outputs": [
        {
          "output_type": "execute_result",
          "data": {
            "text/plain": [
              "array([[15,  0,  0],\n",
              "       [ 0, 13,  0],\n",
              "       [ 0,  0, 12]])"
            ]
          },
          "metadata": {},
          "execution_count": 175
        }
      ]
    },
    {
      "cell_type": "code",
      "metadata": {
        "colab": {
          "base_uri": "https://localhost:8080/",
          "height": 296
        },
        "id": "o2PXJpxSeyJB",
        "outputId": "a98e968a-8170-449a-a54b-590654e9ccf0"
      },
      "source": [
        "sns.heatmap(cm, annot=True)\n",
        "plt.xlabel('Prediction')\n",
        "plt.ylabel('Truth')"
      ],
      "execution_count": null,
      "outputs": [
        {
          "output_type": "execute_result",
          "data": {
            "text/plain": [
              "Text(33.0, 0.5, 'Truth')"
            ]
          },
          "metadata": {},
          "execution_count": 176
        },
        {
          "output_type": "display_data",
          "data": {
            "image/png": "[encoded data removed]",
            "text/plain": [
              "<Figure size 432x288 with 2 Axes>"
            ]
          },
          "metadata": {
            "needs_background": "light"
          }
        }
      ]
    },
    {
      "cell_type": "markdown",
      "metadata": {
        "id": "0MW9RYlu_RkJ"
      },
      "source": [
        "**Accuracy** "
      ]
    },
    {
      "cell_type": "code",
      "metadata": {
        "colab": {
          "base_uri": "https://localhost:8080/"
        },
        "id": "9I8IDpKWe8bx",
        "outputId": "a44d0c40-b4c7-4f88-c389-4b75a31a245a"
      },
      "source": [
        "var=\"%\"\n",
        "print(\"Accuracy: %0.1f\" % (model.score(X_test,y_test)*100), var[0])"
      ],
      "execution_count": null,
      "outputs": [
        {
          "output_type": "stream",
          "name": "stdout",
          "text": [
            "Accuracy: 100.0 %\n"
          ]
        }
      ]
    },
    {
      "cell_type": "markdown",
      "metadata": {
        "id": "GDBxycBE_pfv"
      },
      "source": [
        "#find the mean square error"
      ]
    },
    {
      "cell_type": "code",
      "metadata": {
        "colab": {
          "base_uri": "https://localhost:8080/"
        },
        "id": "2rKZtmUP_qHe",
        "outputId": "4ef729a5-6360-41c3-ccb3-3bb440b3a299"
      },
      "source": [
        "lin_mse = mean_squared_error(y_test, y_pred)\n",
        "lin_rmse = np.sqrt(lin_mse)\n",
        "lin_rmse"
      ],
      "execution_count": null,
      "outputs": [
        {
          "output_type": "execute_result",
          "data": {
            "text/plain": [
              "0.0"
            ]
          },
          "metadata": {},
          "execution_count": 178
        }
      ]
    },
    {
      "cell_type": "code",
      "metadata": {
        "colab": {
          "base_uri": "https://localhost:8080/"
        },
        "id": "Us5h44QI_sI3",
        "outputId": "6aecb00e-212a-4ce1-c385-122a03fbea00"
      },
      "source": [
        "lin_mae = mean_absolute_error(y_test, y_pred)\n",
        "lin_mae"
      ],
      "execution_count": null,
      "outputs": [
        {
          "output_type": "execute_result",
          "data": {
            "text/plain": [
              "0.0"
            ]
          },
          "metadata": {},
          "execution_count": 179
        }
      ]
    }
  ]
}